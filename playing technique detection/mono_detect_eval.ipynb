{
 "cells": [
  {
   "cell_type": "code",
   "execution_count": 1,
   "metadata": {},
   "outputs": [],
   "source": [
    "from sklearn.model_selection import train_test_split, cross_val_score, cross_validate, GridSearchCV\n",
    "from sklearn.pipeline import make_pipeline\n",
    "from sklearn.svm import LinearSVC, SVC\n",
    "from sklearn.linear_model import LogisticRegression\n",
    "from sklearn.metrics import accuracy_score, f1_score\n",
    "from sklearn.preprocessing import StandardScaler\n",
    "# from sklearn.utils import shuffle\n",
    "import numpy as np"
   ]
  },
  {
   "cell_type": "code",
   "execution_count": null,
   "metadata": {},
   "outputs": [],
   "source": [
    "# hyperparams for mono detector\n",
    "N_MFCC = [8, 13, 20, 40]\n",
    "FRAME_SIZE = [1024, 2048, 4096]\n",
    "\n",
    "\n",
    "for n_mfcc in N_MFCC:\n",
    "    for frame_size in FRAME_SIZE:\n",
    "        print(f\"---------------MFCC: {n_mfcc}-------------------FR: {frame_size}--------------\")\n",
    "        data = np.load(f\"/Users/jw/Documents/mono_detector_data/MFCC_{n_mfcc}_FR_{frame_size}.npy\")\n",
    "        X = data[:, :-1]\n",
    "        y = data[:, -1]\n",
    "\n",
    "        lr = make_pipeline(StandardScaler(), LogisticRegression())\n",
    "        results = cross_validate(lr, X, y, cv=5, n_jobs=-1, scoring=\"accuracy\", return_estimator=False)\n",
    "        scores = results[\"test_score\"]\n",
    "        np.set_printoptions(precision=3)\n",
    "        print(f\"MEAN: {np.mean(scores)}, VAR: {np.var(scores)}\")\n",
    "\n",
    "        lsvc = make_pipeline(StandardScaler(), LinearSVC())\n",
    "        results = cross_validate(lsvc, X, y, cv=5, n_jobs=-1, scoring=\"accuracy\", return_estimator=False)\n",
    "        scores = results[\"test_score\"]\n",
    "        print(f\"MEAN: {np.mean(scores)}, VAR: {np.var(scores)}\")\n",
    "\n",
    "        svc = make_pipeline(StandardScaler(), SVC())\n",
    "        results = cross_validate(svc, X, y, cv=5, n_jobs=-1, scoring=\"accuracy\", return_estimator=False)\n",
    "        scores = results[\"test_score\"]\n",
    "        print(f\"MEAN: {np.mean(scores)}, VAR: {np.var(scores)}\")"
   ]
  }
 ],
 "metadata": {
  "kernelspec": {
   "display_name": "Python 3.8.9 ('env': venv)",
   "language": "python",
   "name": "python3"
  },
  "language_info": {
   "codemirror_mode": {
    "name": "ipython",
    "version": 3
   },
   "file_extension": ".py",
   "mimetype": "text/x-python",
   "name": "python",
   "nbconvert_exporter": "python",
   "pygments_lexer": "ipython3",
   "version": "3.9.6"
  },
  "orig_nbformat": 4,
  "vscode": {
   "interpreter": {
    "hash": "1e4299a6bfeee03721df81a04beb561ffa0442fcfce618d29889931a6d6e4527"
   }
  }
 },
 "nbformat": 4,
 "nbformat_minor": 2
}
