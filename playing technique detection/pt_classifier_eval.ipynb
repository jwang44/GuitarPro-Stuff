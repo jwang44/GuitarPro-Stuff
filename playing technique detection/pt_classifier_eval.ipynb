{
 "cells": [
  {
   "cell_type": "code",
   "execution_count": null,
   "metadata": {},
   "outputs": [],
   "source": [
    "from sklearn.svm import LinearSVC, SVC\n",
    "from sklearn.metrics import classification_report\n",
    "from sklearn.utils import shuffle\n",
    "from sklearn.model_selection import train_test_split, GridSearchCV, StratifiedKFold, cross_val_score\n",
    "from sklearn.feature_selection import RFECV\n",
    "from sklearn.preprocessing import StandardScaler\n",
    "from sklearn.pipeline import Pipeline\n",
    "import numpy as np\n",
    "import joblib"
   ]
  },
  {
   "cell_type": "code",
   "execution_count": null,
   "metadata": {},
   "outputs": [],
   "source": [
    "notes_data = np.load(\"/Users/jw/Documents/extensive_features/hits_data_notes.npy\")\n",
    "trans_data = np.load(\"/Users/jw/Documents/extensive_features/hits_data_trans.npy\")\n",
    "# a concatenation of notes and trans\n",
    "hits_data = np.load(\"/Users/jw/Documents/extensive_features/hits_data.npy\")"
   ]
  },
  {
   "cell_type": "code",
   "execution_count": null,
   "metadata": {},
   "outputs": [],
   "source": [
    "label = notes_data[:, -1]\n",
    "normal = label == 0\n",
    "bend = label == 1\n",
    "vibrato = label == 2\n",
    "hammer = label == 3\n",
    "pull = label == 4\n",
    "slide = label == 5\n",
    "print(f\"normal: {np.sum(normal)}, bend: {np.sum(bend)}, vibrato: {np.sum(vibrato)}, hammer: {np.sum(hammer)}, pull: {np.sum(pull)}, slide: {np.sum(slide)}\")"
   ]
  },
  {
   "cell_type": "code",
   "execution_count": null,
   "metadata": {},
   "outputs": [],
   "source": [
    "label = trans_data[:, -1]\n",
    "normal = label == 0\n",
    "bend = label == 1\n",
    "vibrato = label == 2\n",
    "hammer = label == 3\n",
    "pull = label == 4\n",
    "slide = label == 5\n",
    "print(f\"normal: {np.sum(normal)}, bend: {np.sum(bend)}, vibrato: {np.sum(vibrato)}, hammer: {np.sum(hammer)}, pull: {np.sum(pull)}, slide: {np.sum(slide)}\")"
   ]
  },
  {
   "cell_type": "code",
   "execution_count": null,
   "metadata": {},
   "outputs": [],
   "source": [
    "label = hits_data[:, -1]\n",
    "normal = label == 0\n",
    "bend = label == 1\n",
    "vibrato = label == 2\n",
    "hammer = label == 3\n",
    "pull = label == 4\n",
    "slide = label == 5\n",
    "print(f\"normal: {np.sum(normal)}, bend: {np.sum(bend)}, vibrato: {np.sum(vibrato)}, hammer: {np.sum(hammer)}, pull: {np.sum(pull)}, slide: {np.sum(slide)}\")"
   ]
  },
  {
   "cell_type": "code",
   "execution_count": null,
   "metadata": {},
   "outputs": [],
   "source": [
    "def separate_features(start_idx, feature_len):\n",
    "    start_points = []\n",
    "    end_points = []\n",
    "    for j in range(6):\n",
    "        for i in range(3):\n",
    "            start_point = start_idx + j * 81 + i * 27\n",
    "            end_point = start_point + feature_len\n",
    "            print(f\"start {start_point}, end {end_point}\")\n",
    "            start_points.append(start_point)\n",
    "            end_points.append(end_point)\n",
    "    return zip(start_points, end_points)"
   ]
  },
  {
   "cell_type": "code",
   "execution_count": null,
   "metadata": {},
   "outputs": [],
   "source": [
    "X = hits_data[:, :-1]\n",
    "y = hits_data[:, -1]"
   ]
  },
  {
   "cell_type": "code",
   "execution_count": null,
   "metadata": {},
   "outputs": [],
   "source": [
    "mfcc_idx = separate_features(start_idx=0, feature_len=20)\n",
    "mfcc_components = []\n",
    "for start, end in mfcc_idx:\n",
    "    component = X[:, start:end]\n",
    "    mfcc_components.append(component)\n",
    "X_mfcc = np.concatenate(mfcc_components, axis=1)\n",
    "print(X_mfcc.shape)\n"
   ]
  },
  {
   "cell_type": "code",
   "execution_count": null,
   "metadata": {},
   "outputs": [],
   "source": [
    "pitch_idx = separate_features(start_idx=20, feature_len=1)\n",
    "pitch_components = []\n",
    "for start, end in pitch_idx:\n",
    "    component = X[:, start:end]\n",
    "    pitch_components.append(component)\n",
    "X_pitch = np.concatenate(pitch_components, axis=1)\n",
    "print(X_pitch.shape)\n"
   ]
  },
  {
   "cell_type": "code",
   "execution_count": null,
   "metadata": {},
   "outputs": [],
   "source": [
    "timbre_idx = separate_features(start_idx=21, feature_len=6)\n",
    "timbre_components = []\n",
    "for start, end in timbre_idx:\n",
    "    component = X[:, start:end]\n",
    "    timbre_components.append(component)\n",
    "X_timbre = np.concatenate(timbre_components, axis=1)\n",
    "print(X_timbre.shape)\n"
   ]
  },
  {
   "cell_type": "code",
   "execution_count": null,
   "metadata": {},
   "outputs": [],
   "source": [
    "# 5*2 nested cv with grid search\n",
    "p_grid = [\n",
    "    {\"svc__C\": [1, 10, 100, 1000], \"svc__gamma\": [\"scale\", \"auto\"]},\n",
    "]\n",
    "svm = Pipeline([('scaler', StandardScaler()), ('svc', SVC(class_weight=\"balanced\"))])\n",
    "\n",
    "# cv for the inner and outer loops,\n",
    "inner_cv = StratifiedKFold(n_splits=2, shuffle=True)\n",
    "outer_cv = StratifiedKFold(n_splits=5, shuffle=True)\n",
    "\n",
    "for train_index, test_index in outer_cv.split(X_mfcc, y):\n",
    "    X_train, X_test = X[train_index], X[test_index]\n",
    "    y_train, y_test = y[train_index], y[test_index]\n",
    "    search = GridSearchCV(estimator=svm, param_grid=p_grid, scoring=\"f1_macro\", cv=inner_cv, n_jobs=-1)\n",
    "    search.fit(X_train, y_train)\n",
    "    print(\"------------BEST_PARAMS--------\")\n",
    "    print(search.best_params_)\n",
    "    print(\"------------BEST_SCORE---------\")\n",
    "    print(search.best_score_)\n",
    "    print(\"------------EVAL_DATA----------\")\n",
    "    y_pred = search.predict(X_test)\n",
    "    print(classification_report(y_test, y_pred, digits=3))    \n"
   ]
  },
  {
   "cell_type": "code",
   "execution_count": null,
   "metadata": {},
   "outputs": [],
   "source": [
    "# 5*2 nested cv with grid search\n",
    "p_grid = [\n",
    "    {\"svc__C\": [1, 10, 100, 1000], \"svc__gamma\": [\"scale\", \"auto\"]},\n",
    "]\n",
    "svm = Pipeline([('scaler', StandardScaler()), ('svc', SVC(class_weight=\"balanced\"))])\n",
    "\n",
    "# cv for the inner and outer loops,\n",
    "inner_cv = StratifiedKFold(n_splits=2, shuffle=True)\n",
    "outer_cv = StratifiedKFold(n_splits=5, shuffle=True)\n",
    "\n",
    "for train_index, test_index in outer_cv.split(X_pitch, y):\n",
    "    X_train, X_test = X[train_index], X[test_index]\n",
    "    y_train, y_test = y[train_index], y[test_index]\n",
    "    search = GridSearchCV(estimator=svm, param_grid=p_grid, scoring=\"f1_macro\", cv=inner_cv, n_jobs=-1)\n",
    "    search.fit(X_train, y_train)\n",
    "    print(\"------------BEST_PARAMS--------\")\n",
    "    print(search.best_params_)\n",
    "    print(\"------------BEST_SCORE---------\")\n",
    "    print(search.best_score_)\n",
    "    print(\"------------EVAL_DATA----------\")\n",
    "    y_pred = search.predict(X_test)\n",
    "    print(classification_report(y_test, y_pred, digits=3))    \n"
   ]
  },
  {
   "cell_type": "code",
   "execution_count": null,
   "metadata": {},
   "outputs": [],
   "source": [
    "# 5*2 nested cv with grid search\n",
    "p_grid = [\n",
    "    {\"svc__C\": [1, 10, 100, 1000], \"svc__gamma\": [\"scale\", \"auto\"]},\n",
    "]\n",
    "svm = Pipeline([('scaler', StandardScaler()), ('svc', SVC(class_weight=\"balanced\"))])\n",
    "\n",
    "# cv for the inner and outer loops,\n",
    "inner_cv = StratifiedKFold(n_splits=2, shuffle=True)\n",
    "outer_cv = StratifiedKFold(n_splits=5, shuffle=True)\n",
    "\n",
    "for train_index, test_index in outer_cv.split(X_timbre, y):\n",
    "    X_train, X_test = X[train_index], X[test_index]\n",
    "    y_train, y_test = y[train_index], y[test_index]\n",
    "    search = GridSearchCV(estimator=svm, param_grid=p_grid, scoring=\"f1_macro\", cv=inner_cv, n_jobs=-1)\n",
    "    search.fit(X_train, y_train)\n",
    "    print(\"------------BEST_PARAMS--------\")\n",
    "    print(search.best_params_)\n",
    "    print(\"------------BEST_SCORE---------\")\n",
    "    print(search.best_score_)\n",
    "    print(\"------------EVAL_DATA----------\")\n",
    "    y_pred = search.predict(X_test)\n",
    "    print(classification_report(y_test, y_pred, digits=3))    \n"
   ]
  },
  {
   "cell_type": "code",
   "execution_count": null,
   "metadata": {},
   "outputs": [],
   "source": [
    "# 5*2 nested cv with grid search\n",
    "p_grid = [\n",
    "    {\"svc__C\": [1, 10, 100, 1000], \"svc__gamma\": [\"scale\", \"auto\"]},\n",
    "]\n",
    "svm = Pipeline([('scaler', StandardScaler()), ('svc', SVC(class_weight=\"balanced\"))])\n",
    "\n",
    "# cv for the inner and outer loops,\n",
    "inner_cv = StratifiedKFold(n_splits=2, shuffle=True)\n",
    "outer_cv = StratifiedKFold(n_splits=5, shuffle=True)\n",
    "\n",
    "for train_index, test_index in outer_cv.split(np.concatenate((X_timbre, X_pitch), axis=1), y):\n",
    "    X_train, X_test = X[train_index], X[test_index]\n",
    "    y_train, y_test = y[train_index], y[test_index]\n",
    "    search = GridSearchCV(estimator=svm, param_grid=p_grid, scoring=\"f1_macro\", cv=inner_cv, n_jobs=-1)\n",
    "    search.fit(X_train, y_train)\n",
    "    print(\"------------BEST_PARAMS--------\")\n",
    "    print(search.best_params_)\n",
    "    print(\"------------BEST_SCORE---------\")\n",
    "    print(search.best_score_)\n",
    "    print(\"------------EVAL_DATA----------\")\n",
    "    y_pred = search.predict(X_test)\n",
    "    print(classification_report(y_test, y_pred, digits=3))    \n"
   ]
  },
  {
   "cell_type": "code",
   "execution_count": null,
   "metadata": {},
   "outputs": [],
   "source": [
    "# 5*2 nested cv with grid search\n",
    "p_grid = [\n",
    "    {\"svc__C\": [1, 10, 100, 1000], \"svc__gamma\": [\"scale\", \"auto\"]},\n",
    "]\n",
    "svm = Pipeline([('scaler', StandardScaler()), ('svc', SVC(class_weight=\"balanced\"))])\n",
    "\n",
    "# cv for the inner and outer loops,\n",
    "inner_cv = StratifiedKFold(n_splits=2, shuffle=True)\n",
    "outer_cv = StratifiedKFold(n_splits=5, shuffle=True)\n",
    "\n",
    "for train_index, test_index in outer_cv.split(np.concatenate((X_timbre, X_mfcc), axis=1), y):\n",
    "    X_train, X_test = X[train_index], X[test_index]\n",
    "    y_train, y_test = y[train_index], y[test_index]\n",
    "    search = GridSearchCV(estimator=svm, param_grid=p_grid, scoring=\"f1_macro\", cv=inner_cv, n_jobs=-1)\n",
    "    search.fit(X_train, y_train)\n",
    "    print(\"------------BEST_PARAMS--------\")\n",
    "    print(search.best_params_)\n",
    "    print(\"------------BEST_SCORE---------\")\n",
    "    print(search.best_score_)\n",
    "    print(\"------------EVAL_DATA----------\")\n",
    "    y_pred = search.predict(X_test)\n",
    "    print(classification_report(y_test, y_pred, digits=3))    \n"
   ]
  },
  {
   "cell_type": "code",
   "execution_count": null,
   "metadata": {},
   "outputs": [],
   "source": [
    "# 5*2 nested cv with grid search\n",
    "p_grid = [\n",
    "    {\"svc__C\": [1, 10, 100, 1000], \"svc__gamma\": [\"scale\", \"auto\"]},\n",
    "]\n",
    "svm = Pipeline([('scaler', StandardScaler()), ('svc', SVC(class_weight=\"balanced\"))])\n",
    "\n",
    "# cv for the inner and outer loops,\n",
    "inner_cv = StratifiedKFold(n_splits=2, shuffle=True)\n",
    "outer_cv = StratifiedKFold(n_splits=5, shuffle=True)\n",
    "\n",
    "for train_index, test_index in outer_cv.split(np.concatenate((X_pitch, X_mfcc), axis=1), y):\n",
    "    X_train, X_test = X[train_index], X[test_index]\n",
    "    y_train, y_test = y[train_index], y[test_index]\n",
    "    search = GridSearchCV(estimator=svm, param_grid=p_grid, scoring=\"f1_macro\", cv=inner_cv, n_jobs=-1)\n",
    "    search.fit(X_train, y_train)\n",
    "    print(\"------------BEST_PARAMS--------\")\n",
    "    print(search.best_params_)\n",
    "    print(\"------------BEST_SCORE---------\")\n",
    "    print(search.best_score_)\n",
    "    print(\"------------EVAL_DATA----------\")\n",
    "    y_pred = search.predict(X_test)\n",
    "    print(classification_report(y_test, y_pred, digits=3))    \n"
   ]
  },
  {
   "cell_type": "code",
   "execution_count": null,
   "metadata": {},
   "outputs": [],
   "source": [
    "# 5*2 nested cv with grid search\n",
    "p_grid = [\n",
    "    {\"svc__C\": [1, 10, 100, 1000], \"svc__gamma\": [\"scale\", \"auto\"]},\n",
    "]\n",
    "svm = Pipeline([('scaler', StandardScaler()), ('svc', SVC(class_weight=\"balanced\"))])\n",
    "\n",
    "# cv for the inner and outer loops,\n",
    "inner_cv = StratifiedKFold(n_splits=2, shuffle=True)\n",
    "outer_cv = StratifiedKFold(n_splits=5, shuffle=True)\n",
    "\n",
    "for train_index, test_index in outer_cv.split(X, y):\n",
    "    X_train, X_test = X[train_index], X[test_index]\n",
    "    y_train, y_test = y[train_index], y[test_index]\n",
    "    search = GridSearchCV(estimator=svm, param_grid=p_grid, scoring=\"f1_macro\", cv=inner_cv, n_jobs=-1)\n",
    "    search.fit(X_train, y_train)\n",
    "    print(\"------------BEST_PARAMS--------\")\n",
    "    print(search.best_params_)\n",
    "    print(\"------------BEST_SCORE---------\")\n",
    "    print(search.best_score_)\n",
    "    print(\"------------EVAL_DATA----------\")\n",
    "    y_pred = search.predict(X_test)\n",
    "    print(classification_report(y_test, y_pred, digits=3))    \n"
   ]
  },
  {
   "cell_type": "code",
   "execution_count": null,
   "metadata": {},
   "outputs": [],
   "source": [
    "svc_full = Pipeline([('scaler', StandardScaler()), ('svc', SVC(class_weight=\"balanced\", C=10, gamma=\"scale\"))])\n",
    "svc_full = svc_full.fit(hits_data[:, :-1], hits_data[:, -1])\n",
    "joblib.dump(svc_full, \"/Users/jw/Documents/unified_clf.joblib\")"
   ]
  }
 ],
 "metadata": {
  "interpreter": {
   "hash": "1e4299a6bfeee03721df81a04beb561ffa0442fcfce618d29889931a6d6e4527"
  },
  "kernelspec": {
   "display_name": "Python 3.8.9 ('env': venv)",
   "language": "python",
   "name": "python3"
  },
  "language_info": {
   "codemirror_mode": {
    "name": "ipython",
    "version": 3
   },
   "file_extension": ".py",
   "mimetype": "text/x-python",
   "name": "python",
   "nbconvert_exporter": "python",
   "pygments_lexer": "ipython3",
   "version": "3.9.6"
  },
  "orig_nbformat": 4
 },
 "nbformat": 4,
 "nbformat_minor": 2
}
