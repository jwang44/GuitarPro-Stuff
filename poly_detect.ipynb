{
  "cells": [
    {
      "cell_type": "code",
      "execution_count": 2,
      "metadata": {},
      "outputs": [],
      "source": [
        "%load_ext autoreload"
      ]
    },
    {
      "cell_type": "code",
      "execution_count": 3,
      "metadata": {
        "id": "hbty8-qenfRV"
      },
      "outputs": [],
      "source": [
        "%autoreload 2\n",
        "import os\n",
        "import glob\n",
        "import guitarpro\n",
        "import librosa, soundfile\n",
        "import numpy as np\n",
        "import scipy\n",
        "from utils import *\n",
        "from operations import *"
      ]
    },
    {
      "cell_type": "markdown",
      "metadata": {
        "id": "Da4NwbioglZk"
      },
      "source": [
        "## Break multi-track gtp files into single-track gtp files"
      ]
    },
    {
      "cell_type": "code",
      "execution_count": null,
      "metadata": {
        "colab": {
          "base_uri": "https://localhost:8080/"
        },
        "id": "F5NB_nA48xVN",
        "outputId": "92b73403-c83c-47da-80c0-a709cbb13709"
      },
      "outputs": [],
      "source": [
        "MULTI_TRACK_DIR = \"/Volumes/MacOnly/UG_raw/all_time_top_by_hits\"\n",
        "SINGLE_TRACK_DIR = \"/Volumes/MacOnly/UG_proc/all_time_top_by_hits/single_track_gtps\"\n",
        "\n",
        "i = 0\n",
        "for file in glob.glob(os.path.join(MULTI_TRACK_DIR, \"*.gp*\")):\n",
        "    i += 1\n",
        "    print(f\"processing file {i}: {file.split('/')[-1]}\")\n",
        "    get_single_tracks(\n",
        "        file=file,\n",
        "        output_dir=SINGLE_TRACK_DIR,\n",
        "        unify_volume=True,\n",
        "        force_clean=False,\n",
        "        disable_repeats=False,\n",
        "        disable_mixTableChange=False,\n",
        "    )\n",
        "\n"
      ]
    },
    {
      "cell_type": "code",
      "execution_count": null,
      "metadata": {},
      "outputs": [],
      "source": [
        "MULTI_TRACK_DIR = \"/Volumes/MacOnly/UG_raw/all_time_top_by_hits\"\n",
        "# clean_single_track_gtps contains gtp files that have:\n",
        "# unified volume, clean guitar tone, no repeats, no mixTableChanges\n",
        "CLEAN_SINGLE_TRACK_DIR = (\n",
        "    \"/Volumes/MacOnly/UG_proc/all_time_top_by_hits/clean_single_track_gtps\"\n",
        ")\n",
        "\n",
        "i = 0\n",
        "for file in glob.glob(os.path.join(MULTI_TRACK_DIR, \"*.gp*\")):\n",
        "    i += 1\n",
        "    print(f\"processing file {i}: {file.split('/')[-1]}\")\n",
        "    get_single_tracks(file=file, output_dir=CLEAN_SINGLE_TRACK_DIR)\n",
        "\n"
      ]
    },
    {
      "cell_type": "markdown",
      "metadata": {},
      "source": [
        "## Segment single-track audio into poly and mono segments (GT)"
      ]
    },
    {
      "cell_type": "code",
      "execution_count": 4,
      "metadata": {},
      "outputs": [],
      "source": [
        "# a test\n",
        "file_name = \"DragonForce - Through The Fire And Flames_Lead 2.gp5\"\n",
        "song = guitarpro.parse(os.path.join(CLEAN_SINGLE_TRACK_DIR, file_name))\n",
        "poly, mono = poly_vs_mono(song)\n"
      ]
    },
    {
      "cell_type": "code",
      "execution_count": 5,
      "metadata": {},
      "outputs": [
        {
          "data": {
            "text/plain": [
              "[[37.2, 38.400000000000006],\n",
              " [288.6, 289.2],\n",
              " [289.8, 290.4],\n",
              " [414.0, 418.79999999999995]]"
            ]
          },
          "execution_count": 5,
          "metadata": {},
          "output_type": "execute_result"
        }
      ],
      "source": [
        "poly\n"
      ]
    },
    {
      "cell_type": "code",
      "execution_count": 6,
      "metadata": {},
      "outputs": [
        {
          "data": {
            "text/plain": [
              "[[0.0, 37.2],\n",
              " [38.4, 288.59999999999997],\n",
              " [289.2, 289.8],\n",
              " [290.4, 414.0],\n",
              " [418.8, 433.2]]"
            ]
          },
          "execution_count": 6,
          "metadata": {},
          "output_type": "execute_result"
        }
      ],
      "source": [
        "mono\n"
      ]
    },
    {
      "cell_type": "code",
      "execution_count": null,
      "metadata": {},
      "outputs": [],
      "source": [
        "CLEAN_SINGLE_TRACK_DIR = (\n",
        "    \"/Volumes/MacOnly/UG_proc/all_time_top_by_hits/clean_single_track_gtps\"\n",
        ")\n",
        "SINGLE_TRACK_AUDIO_DIR = (\n",
        "    \"/Volumes/MacOnly/UG_proc/all_time_top_by_hits/clean_single_track_audio\"\n",
        ")\n",
        "POLY_SEGMENTS_DIR = \"/Volumes/MacOnly/UG_proc/all_time_top_by_hits/poly_audio_segments\"\n",
        "MONO_SEGMENTS_DIR = \"/Volumes/MacOnly/UG_proc/all_time_top_by_hits/mono_audio_segments\"\n",
        "\n",
        "i = 0\n",
        "for file in glob.glob(os.path.join(CLEAN_SINGLE_TRACK_DIR, \"*.gp5\")):\n",
        "    i += 1\n",
        "    track_title, _ = os.path.splitext(file.split(\"/\")[-1])\n",
        "    print(f\"processing file {i}: {track_title}\")\n",
        "\n",
        "    song = guitarpro.parse(file)\n",
        "    poly, mono = poly_vs_mono(song)\n",
        "\n",
        "    y, sr = librosa.load(\n",
        "        os.path.join(SINGLE_TRACK_AUDIO_DIR, track_title + \".wav\"), sr=None, mono=True\n",
        "    )\n",
        "\n",
        "    for j, poly_segment in enumerate(poly):\n",
        "        start_sec = poly_segment[0]\n",
        "        end_sec = poly_segment[1]\n",
        "        segment = y[int(start_sec * sr) : int(end_sec * sr)]\n",
        "        # write segment to file, store it in the \"poly\" folder\n",
        "        segment_file_name = \"{}_{}_{}s.wav\".format(\n",
        "            track_title, j, int(start_sec)\n",
        "        )\n",
        "        soundfile.write(os.path.join(POLY_SEGMENTS_DIR, segment_file_name), segment, sr)\n",
        "\n",
        "    for j, mono_segment in enumerate(mono):\n",
        "        start_sec = mono_segment[0]\n",
        "        end_sec = mono_segment[1]\n",
        "        segment = y[int(start_sec * sr) : int(end_sec * sr)]\n",
        "        # write segment to file, store it in the \"mono\" folder\n",
        "        segment_file_name = \"{}_{}_{}s.wav\".format(track_title, j, int(start_sec))\n",
        "        soundfile.write(os.path.join(MONO_SEGMENTS_DIR, segment_file_name), segment, sr)\n",
        "\n"
      ]
    },
    {
      "cell_type": "markdown",
      "metadata": {},
      "source": [
        "## Generate frames (features and labels) from the poly and mono segments"
      ]
    },
    {
      "cell_type": "code",
      "execution_count": null,
      "metadata": {},
      "outputs": [],
      "source": [
        "# frame-level features: mel-spectrum (compute via mel-spectrogram)\n",
        "FRAME_SIZE = 2048\n",
        "HOP_SIZE = 2048\n",
        "MONO_LABEL = 0\n",
        "\n",
        "MONO_SEGMENTS_DIR = \"/content/mono_audio_segments\"\n",
        "\n",
        "i = 0\n",
        "features_with_label = []\n",
        "\n",
        "for file in glob.glob(os.path.join(MONO_SEGMENTS_DIR, \"*.wav\")):\n",
        "    i += 1\n",
        "    title, _ = os.path.splitext(file.split(\"/\")[-1])\n",
        "    print(f\"processing file {i}: {title}\")\n",
        "\n",
        "    y, sr = librosa.load(file, sr=None, mono=True)\n",
        "    mel_spec = librosa.feature.melspectrogram(y, sr, n_fft=FRAME_SIZE, hop_length=HOP_SIZE, center=False)\n",
        "\n",
        "    no_frames = mel_spec.shape[1]\n",
        "    columns_to_delete = []\n",
        "\n",
        "    for j in range(no_frames):\n",
        "        if np.all(mel_spec[:, j] == 0):\n",
        "            columns_to_delete.append(j)\n",
        "    mel_spec = np.delete(mel_spec, columns_to_delete, axis=1)\n",
        "    print(f\"deleted {len(columns_to_delete)} empty frames\")\n",
        "    # zero for mono\n",
        "    label = np.zeros((1, mel_spec.shape[1]))\n",
        "    feature_with_label = np.append(mel_spec, label, axis=0)\n",
        "    features_with_label.append(feature_with_label)\n",
        "\n",
        "mono_data = np.concatenate(features_with_label, axis=1)\n",
        "mono_data.shape # (129, 626587)"
      ]
    },
    {
      "cell_type": "code",
      "execution_count": 43,
      "metadata": {},
      "outputs": [],
      "source": [
        "np.savez_compressed(\"/content/drive/MyDrive/THESIS CODE/mono.npz\", mono_data)   # ~300M\n",
        "# np.save(\"/content/drive/MyDrive/THESIS CODE/mono.npy\", mono_data)   # ~600M"
      ]
    },
    {
      "cell_type": "code",
      "execution_count": null,
      "metadata": {},
      "outputs": [],
      "source": [
        "# frame-level features: mel-spectrum (compute via mel-spectrogram)\n",
        "FRAME_SIZE = 2048\n",
        "HOP_SIZE = 2048\n",
        "POLY_LABEL = 1\n",
        "\n",
        "POLY_SEGMENTS_DIR = \"/content/poly_audio_segments\"\n",
        "\n",
        "i = 0\n",
        "features_with_label = []\n",
        "\n",
        "for file in glob.glob(os.path.join(POLY_SEGMENTS_DIR, \"*.wav\")):\n",
        "    i += 1\n",
        "    title, _ = os.path.splitext(file.split(\"/\")[-1])\n",
        "    print(f\"processing file {i}: {title}\")\n",
        "\n",
        "    y, sr = librosa.load(file, sr=None, mono=True)\n",
        "    mel_spec = librosa.feature.melspectrogram(y, sr, n_fft=FRAME_SIZE, hop_length=HOP_SIZE, center=False)\n",
        "\n",
        "    no_frames = mel_spec.shape[1]\n",
        "    columns_to_delete = []\n",
        "\n",
        "    for j in range(no_frames):\n",
        "        if np.all(mel_spec[:, j] == 0):\n",
        "            columns_to_delete.append(j)\n",
        "    mel_spec = np.delete(mel_spec, columns_to_delete, axis=1)\n",
        "    print(f\"deleted {len(columns_to_delete)} empty frames\")\n",
        "    # one for poly\n",
        "    label = np.ones((1, mel_spec.shape[1]))\n",
        "    feature_with_label = np.append(mel_spec, label, axis=0)\n",
        "    features_with_label.append(feature_with_label)\n",
        "\n",
        "poly_data = np.concatenate(features_with_label, axis=1)\n",
        "poly_data.shape # (129, 551288)"
      ]
    },
    {
      "cell_type": "code",
      "execution_count": null,
      "metadata": {},
      "outputs": [],
      "source": [
        "np.savez_compressed(\"/content/drive/MyDrive/THESIS CODE/poly.npz\", poly_data)"
      ]
    },
    {
      "cell_type": "markdown",
      "metadata": {},
      "source": [
        "## Train sklearn classifier"
      ]
    },
    {
      "cell_type": "code",
      "execution_count": 4,
      "metadata": {},
      "outputs": [
        {
          "name": "stdout",
          "output_type": "stream",
          "text": [
            "['arr_0']\n",
            "['arr_0']\n"
          ]
        }
      ],
      "source": [
        "mono = np.load(\"/Volumes/MacOnly/UG_proc/all_time_top_by_hits/mono.npz\")\n",
        "poly = np.load(\"/Volumes/MacOnly/UG_proc/all_time_top_by_hits/poly.npz\")\n",
        "print(mono.files)\n",
        "print(poly.files)"
      ]
    },
    {
      "cell_type": "code",
      "execution_count": 5,
      "metadata": {},
      "outputs": [
        {
          "name": "stdout",
          "output_type": "stream",
          "text": [
            "(129, 626587)\n",
            "(129, 551288)\n",
            "(129, 1177875)\n"
          ]
        }
      ],
      "source": [
        "with np.load(\"/Volumes/MacOnly/UG_proc/all_time_top_by_hits/mono.npz\") as data:\n",
        "    mono = data[\"arr_0\"]\n",
        "print(mono.shape)\n",
        "with np.load(\"/Volumes/MacOnly/UG_proc/all_time_top_by_hits/poly.npz\") as data:\n",
        "    poly = data[\"arr_0\"]\n",
        "print(poly.shape)\n",
        "data = np.concatenate((mono, poly), axis=1)\n",
        "print(data.shape)"
      ]
    },
    {
      "cell_type": "code",
      "execution_count": 6,
      "metadata": {},
      "outputs": [
        {
          "name": "stdout",
          "output_type": "stream",
          "text": [
            "(1177875, 128)\n",
            "(1177875,)\n"
          ]
        }
      ],
      "source": [
        "X = data[:-1, :]\n",
        "X = X.transpose()   # transpose so that X and y have the same size on the first dimension \n",
        "print(X.shape)\n",
        "y = data[-1, :]\n",
        "print(y.shape)"
      ]
    },
    {
      "cell_type": "code",
      "execution_count": 7,
      "metadata": {},
      "outputs": [],
      "source": [
        "from sklearn.model_selection import train_test_split, cross_val_score\n",
        "from sklearn.svm import LinearSVC, SVC\n",
        "from sklearn.linear_model import LogisticRegression\n",
        "from sklearn.metrics import accuracy_score, f1_score\n",
        "from sklearn.preprocessing import MinMaxScaler, StandardScaler\n",
        "from sklearn.utils import shuffle"
      ]
    },
    {
      "cell_type": "code",
      "execution_count": null,
      "metadata": {},
      "outputs": [],
      "source": [
        "X_shuffled, y_shuffled = shuffle(X, y)\n",
        "lr = LogisticRegression()\n",
        "cross_val_score(lr, X_shuffled, y_shuffled, cv=3)\n",
        "# [0.68747023, 0.68724101, 0.68916905]"
      ]
    },
    {
      "cell_type": "code",
      "execution_count": null,
      "metadata": {},
      "outputs": [],
      "source": [
        "X_shuffled, y_shuffled = shuffle(X, y)\n",
        "clf = SVC()\n",
        "cross_val_score(clf, X_shuffled[:400000, :], y_shuffled[:400000,], cv=3)\n",
        "# [0.85315734, 0.85660717, 0.85673567]"
      ]
    },
    {
      "cell_type": "code",
      "execution_count": null,
      "metadata": {},
      "outputs": [],
      "source": [
        "# long-running SVM training on full data\n",
        "X, y = shuffle(X, y)\n",
        "\n",
        "X_train, X_test, y_train, y_test = train_test_split(X[:400000, :], y[:400000,], test_size=0.2)\n",
        "svm = SVC()\n",
        "svm = svm.fit(X_train, y_train)\n",
        "y_pred = svm.predict(X_test)\n",
        "print(accuracy_score(y_test, y_pred))\n",
        "print(f1_score(y_test, y_pred))"
      ]
    },
    {
      "cell_type": "markdown",
      "metadata": {
        "id": "bnEFGkWafWoA"
      },
      "source": [
        "## Break the single-track gtp files into 4-bar phrases (necessary??)"
      ]
    },
    {
      "cell_type": "code",
      "execution_count": null,
      "metadata": {
        "id": "xOMt22c3ywoT"
      },
      "outputs": [],
      "source": [
        "SINGLE_TRACK_DIR = \"/Volumes/MacOnly/UG_proc/all_time_top_by_hits/single_track_gtps\"\n",
        "PHRASE_DIR = \"/Volumes/MacOnly/UG_proc/all_time_top_by_hits/phrase_gtps\"\n",
        "for file in glob.glob(os.path.join(SINGLE_TRACK_DIR, \"*.gp*\")):\n",
        "    print(f\"processing {file.split('/')[-1]}\")\n",
        "    get_phrases(file, PHRASE_DIR)\n",
        "\n"
      ]
    },
    {
      "cell_type": "code",
      "execution_count": 12,
      "metadata": {},
      "outputs": [],
      "source": [
        "PHRASE_DIR = \"/Volumes/MacOnly/UG_proc/all_time_top_by_hits/phrase_gtps\"\n",
        "file_name = \"ACDC - Highway To Hell (ver 3)_Guitar 2_6.gp5\"\n",
        "song = guitarpro.parse(os.path.join(PHRASE_DIR, file_name))\n",
        "poly, mono = poly_vs_mono(song)\n"
      ]
    },
    {
      "cell_type": "markdown",
      "metadata": {},
      "source": [
        "BELOW IS SUBJECT TO CHANGE"
      ]
    },
    {
      "cell_type": "code",
      "execution_count": null,
      "metadata": {
        "id": "c9R722GY1ta8"
      },
      "outputs": [],
      "source": [
        "JSON_DIR = \"/content/drive/MyDrive/UG/proc_phrases_anno\"\n",
        "for file in glob.glob(os.path.join(PHRASE_DIR, \"*.gp*\")):\n",
        "    print(f\"processing {file.split('/')[-1]}\")\n",
        "    # get_anno(file, JSON_DIR)\n",
        "\n"
      ]
    },
    {
      "cell_type": "code",
      "execution_count": null,
      "metadata": {
        "id": "LmOhJL2enLvE"
      },
      "outputs": [],
      "source": [
        "# \"Led Zeppelin - Stairway To Heaven_4_34\" seems to be empty because of tied notes from the previous phrase\n"
      ]
    },
    {
      "cell_type": "code",
      "execution_count": 29,
      "metadata": {
        "colab": {
          "base_uri": "https://localhost:8080/"
        },
        "id": "drX8parZtbMU",
        "outputId": "a7b2a1aa-c094-4f1b-a5f9-028b992a2837"
      },
      "outputs": [
        {
          "data": {
            "text/plain": [
              "MixTableItem(value=200, duration=0, allTracks=False)"
            ]
          },
          "execution_count": 29,
          "metadata": {},
          "output_type": "execute_result"
        }
      ],
      "source": [
        "file = \"/content/drive/MyDrive/tempochange.gp5\"\n",
        "song = guitarpro.parse(file)\n",
        "song.tracks[0].measures[1].voices[0].beats[2].effect.mixTableChange.tempo\n"
      ]
    },
    {
      "cell_type": "code",
      "execution_count": 33,
      "metadata": {
        "colab": {
          "base_uri": "https://localhost:8080/"
        },
        "id": "eg1bmSFi0X6Q",
        "outputId": "894f9929-7bb0-4823-8f33-90382e5e846c"
      },
      "outputs": [
        {
          "data": {
            "text/plain": [
              "4800"
            ]
          },
          "execution_count": 33,
          "metadata": {},
          "output_type": "execute_result"
        }
      ],
      "source": [
        "song.tracks[0].measures[1].voices[0].beats[0].start\n"
      ]
    },
    {
      "cell_type": "code",
      "execution_count": 41,
      "metadata": {
        "colab": {
          "base_uri": "https://localhost:8080/"
        },
        "id": "2PHfq34s6d6P",
        "outputId": "4083c23f-4818-4abb-e9b0-960e9394d4dd"
      },
      "outputs": [
        {
          "data": {
            "text/plain": [
              "960"
            ]
          },
          "execution_count": 41,
          "metadata": {},
          "output_type": "execute_result"
        }
      ],
      "source": [
        "song.tracks[0].measures[1].voices[0].beats[1].duration.time\n"
      ]
    },
    {
      "cell_type": "code",
      "execution_count": 53,
      "metadata": {
        "colab": {
          "base_uri": "https://localhost:8080/"
        },
        "id": "tXRzw6le6nRk",
        "outputId": "7157ee44-6e3f-4f7b-e8da-6609f0a0ea2b"
      },
      "outputs": [
        {
          "data": {
            "text/plain": [
              "[<guitarpro.models.Beat at 0x7faab7e9dcd0>,\n",
              " <guitarpro.models.Beat at 0x7faab4308590>,\n",
              " <guitarpro.models.Beat at 0x7faab3d43d90>,\n",
              " <guitarpro.models.Beat at 0x7faab3d6c410>]"
            ]
          },
          "execution_count": 53,
          "metadata": {},
          "output_type": "execute_result"
        }
      ],
      "source": [
        "song.tracks[0].measures[1].voices[0].beats\n"
      ]
    },
    {
      "cell_type": "code",
      "execution_count": 37,
      "metadata": {
        "colab": {
          "base_uri": "https://localhost:8080/"
        },
        "id": "cTMpa5oT6rPE",
        "outputId": "06fd6168-225e-4760-c720-88b9421513cd"
      },
      "outputs": [
        {
          "data": {
            "text/plain": [
              "7680"
            ]
          },
          "execution_count": 37,
          "metadata": {},
          "output_type": "execute_result"
        }
      ],
      "source": [
        "song.tracks[0].measures[1].voices[0].beats[3].start\n"
      ]
    },
    {
      "cell_type": "code",
      "execution_count": 58,
      "metadata": {
        "colab": {
          "base_uri": "https://localhost:8080/"
        },
        "id": "it5wXGdt_q5g",
        "outputId": "42d7a3f2-6013-48de-f105-7b2b79b2a122"
      },
      "outputs": [
        {
          "data": {
            "text/plain": [
              "1920"
            ]
          },
          "execution_count": 58,
          "metadata": {},
          "output_type": "execute_result"
        }
      ],
      "source": [
        "file = \"/content/drive/MyDrive/repeat.gp5\"\n",
        "song = guitarpro.parse(file)\n",
        "song.tracks[0].measures[0].voices[0].beats[-1].duration.time\n"
      ]
    }
  ],
  "metadata": {
    "colab": {
      "authorship_tag": "ABX9TyNsU84JTKsDYr0YlXCxOteV",
      "collapsed_sections": [
        "Da4NwbioglZk"
      ],
      "include_colab_link": true,
      "mount_file_id": "1QKchDRyQSEjKJ03k2Q7-aT4KSBYHtlYB",
      "name": "anno_gen.ipynb",
      "provenance": []
    },
    "kernelspec": {
      "display_name": "Python 3",
      "name": "python3"
    },
    "language_info": {
      "codemirror_mode": {
        "name": "ipython",
        "version": 3
      },
      "file_extension": ".py",
      "mimetype": "text/x-python",
      "name": "python",
      "nbconvert_exporter": "python",
      "pygments_lexer": "ipython3",
      "version": "3.7.11"
    }
  },
  "nbformat": 4,
  "nbformat_minor": 0
}
