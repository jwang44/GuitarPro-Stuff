{
  "nbformat": 4,
  "nbformat_minor": 0,
  "metadata": {
    "colab": {
      "name": "GTP.ipynb",
      "provenance": [],
      "collapsed_sections": [],
      "mount_file_id": "1Xs5UBGLp82vhTeJLYZq868kNlO7B14mq",
      "authorship_tag": "ABX9TyNcVWwAsvIxNoyk3vUetglh",
      "include_colab_link": true
    },
    "kernelspec": {
      "name": "python3",
      "display_name": "Python 3"
    },
    "language_info": {
      "name": "python"
    }
  },
  "cells": [
    {
      "cell_type": "markdown",
      "metadata": {
        "id": "view-in-github",
        "colab_type": "text"
      },
      "source": [
        "<a href=\"https://colab.research.google.com/github/jwang44/GuitarPro-Stuff/blob/main/GTP.ipynb\" target=\"_parent\"><img src=\"https://colab.research.google.com/assets/colab-badge.svg\" alt=\"Open In Colab\"/></a>"
      ]
    },
    {
      "cell_type": "code",
      "metadata": {
        "colab": {
          "base_uri": "https://localhost:8080/"
        },
        "id": "TDUtCcU4JBDB",
        "outputId": "e205433a-e352-4f1c-d81a-8ed9dd7d618a"
      },
      "source": [
        "!pip install pyguitarpro"
      ],
      "execution_count": 1,
      "outputs": [
        {
          "output_type": "stream",
          "text": [
            "Collecting pyguitarpro\n",
            "\u001b[?25l  Downloading https://files.pythonhosted.org/packages/fa/94/85a2ef5e08bfa28c7c48c19bed79c5d75454b38dcd3ca8c439e3dfd15505/PyGuitarPro-0.8-py2.py3-none-any.whl (45kB)\n",
            "\u001b[K     |████████████████████████████████| 51kB 6.1MB/s \n",
            "\u001b[?25hRequirement already satisfied: attrs>=19.2 in /usr/local/lib/python3.7/dist-packages (from pyguitarpro) (21.2.0)\n",
            "Installing collected packages: pyguitarpro\n",
            "Successfully installed pyguitarpro-0.8\n"
          ],
          "name": "stdout"
        }
      ]
    },
    {
      "cell_type": "code",
      "metadata": {
        "id": "_pqZ-f63JgSs"
      },
      "source": [
        "import guitarpro\n",
        "demo = guitarpro.parse('/content/drive/MyDrive/GTPs/Metallica - Hit The Lights.gp3')"
      ],
      "execution_count": 3,
      "outputs": []
    },
    {
      "cell_type": "code",
      "metadata": {
        "id": "osEIS-csR062"
      },
      "source": [
        "p_tracks = [track for track in demo.tracks if track.isPercussionTrack]"
      ],
      "execution_count": 38,
      "outputs": []
    },
    {
      "cell_type": "code",
      "metadata": {
        "colab": {
          "base_uri": "https://localhost:8080/"
        },
        "id": "h48yZKPCzm_D",
        "outputId": "50983f07-8f33-498b-855f-e35c4993b2f2"
      },
      "source": [
        "beat.duration"
      ],
      "execution_count": 41,
      "outputs": [
        {
          "output_type": "execute_result",
          "data": {
            "text/plain": [
              "Duration(value=16, isDotted=False, tuplet=Tuplet(enters=1, times=1))"
            ]
          },
          "metadata": {
            "tags": []
          },
          "execution_count": 41
        }
      ]
    },
    {
      "cell_type": "code",
      "metadata": {
        "colab": {
          "base_uri": "https://localhost:8080/"
        },
        "id": "GY2KffaM2lf1",
        "outputId": "1f3ae375-a662-4e0f-f8a6-1f1b678048d9"
      },
      "source": [
        "demo.tracks[2].strings"
      ],
      "execution_count": 48,
      "outputs": [
        {
          "output_type": "execute_result",
          "data": {
            "text/plain": [
              "[GuitarString(number=1, value=43),\n",
              " GuitarString(number=2, value=38),\n",
              " GuitarString(number=3, value=33),\n",
              " GuitarString(number=4, value=28)]"
            ]
          },
          "metadata": {
            "tags": []
          },
          "execution_count": 48
        }
      ]
    },
    {
      "cell_type": "code",
      "metadata": {
        "colab": {
          "base_uri": "https://localhost:8080/",
          "height": 35
        },
        "id": "uUWOlUbQTcpg",
        "outputId": "262766be-3884-447b-c2e9-bddfad95a227"
      },
      "source": [
        "demo.tracks[0].name"
      ],
      "execution_count": 25,
      "outputs": [
        {
          "output_type": "execute_result",
          "data": {
            "application/vnd.google.colaboratory.intrinsic+json": {
              "type": "string"
            },
            "text/plain": [
              "'Jaymz Hetfield'"
            ]
          },
          "metadata": {
            "tags": []
          },
          "execution_count": 25
        }
      ]
    },
    {
      "cell_type": "code",
      "metadata": {
        "colab": {
          "base_uri": "https://localhost:8080/"
        },
        "id": "HmAC7XQPUVTk",
        "outputId": "9751f1dc-4178-4512-c87e-a634fe667b46"
      },
      "source": [
        "track = demo.tracks[0]\n",
        "measure = track.measures[0]\n",
        "voice = measure.voices[0]\n",
        "beat = voice.beats[0]\n",
        "note = beat.notes[0]\n",
        "note.value"
      ],
      "execution_count": 31,
      "outputs": [
        {
          "output_type": "execute_result",
          "data": {
            "text/plain": [
              "2"
            ]
          },
          "metadata": {
            "tags": []
          },
          "execution_count": 31
        }
      ]
    },
    {
      "cell_type": "code",
      "metadata": {
        "colab": {
          "base_uri": "https://localhost:8080/"
        },
        "id": "eSQva8aAsniv",
        "outputId": "567d38e0-3537-4eb6-c323-e1cf9f15aed3"
      },
      "source": [
        "note.type"
      ],
      "execution_count": 32,
      "outputs": [
        {
          "output_type": "execute_result",
          "data": {
            "text/plain": [
              "<NoteType.normal: 1>"
            ]
          },
          "metadata": {
            "tags": []
          },
          "execution_count": 32
        }
      ]
    },
    {
      "cell_type": "code",
      "metadata": {
        "colab": {
          "base_uri": "https://localhost:8080/",
          "height": 35
        },
        "id": "apZZyjalszWy",
        "outputId": "649d44a4-245b-43b2-8377-b522f3f3bcc3"
      },
      "source": [
        "demo.tracks[3].isPercussionTrack\n",
        "demo.tracks[3].name"
      ],
      "execution_count": 36,
      "outputs": [
        {
          "output_type": "execute_result",
          "data": {
            "application/vnd.google.colaboratory.intrinsic+json": {
              "type": "string"
            },
            "text/plain": [
              "'Lars Ulrich'"
            ]
          },
          "metadata": {
            "tags": []
          },
          "execution_count": 36
        }
      ]
    },
    {
      "cell_type": "code",
      "metadata": {
        "id": "JnXE3EUiXIr-"
      },
      "source": [
        "for measure in track.measures:\n",
        "  for voice in measure.voices:\n",
        "for beat in voice.beats:\n",
        "for note in beat.notes:"
      ],
      "execution_count": null,
      "outputs": []
    }
  ]
}