{
  "cells": [
    {
      "cell_type": "code",
      "execution_count": 1,
      "metadata": {},
      "outputs": [],
      "source": [
        "%load_ext autoreload"
      ]
    },
    {
      "cell_type": "code",
      "execution_count": 9,
      "metadata": {
        "id": "hbty8-qenfRV"
      },
      "outputs": [],
      "source": [
        "%autoreload 2\n",
        "import os\n",
        "import glob\n",
        "import guitarpro\n",
        "import librosa, soundfile\n",
        "import json\n",
        "from utils import *\n",
        "from operations import *"
      ]
    },
    {
      "cell_type": "markdown",
      "metadata": {
        "id": "Da4NwbioglZk"
      },
      "source": [
        "## Break multi-track gtp files into single-track gtp files"
      ]
    },
    {
      "cell_type": "code",
      "execution_count": null,
      "metadata": {
        "colab": {
          "base_uri": "https://localhost:8080/"
        },
        "id": "F5NB_nA48xVN",
        "outputId": "92b73403-c83c-47da-80c0-a709cbb13709"
      },
      "outputs": [],
      "source": [
        "MULTI_TRACK_DIR = \"/Volumes/MacOnly/UG_raw/all_time_top_by_hits\"\n",
        "SINGLE_TRACK_DIR = \"/Volumes/MacOnly/UG_proc/all_time_top_by_hits/single_track_gtps\"\n",
        "\n",
        "i = 0\n",
        "for file in glob.glob(os.path.join(MULTI_TRACK_DIR, \"*.gp*\")):\n",
        "  i += 1\n",
        "  print(f\"processing file {i}: {file.split('/')[-1]}\")\n",
        "  get_single_tracks(file=file, output_dir=SINGLE_TRACK_DIR, unify_volume=True, force_clean=False, disable_repeats=False, disable_mixTableChange=False)"
      ]
    },
    {
      "cell_type": "code",
      "execution_count": null,
      "metadata": {},
      "outputs": [],
      "source": [
        "MULTI_TRACK_DIR = \"/Volumes/MacOnly/UG_raw/all_time_top_by_hits\"\n",
        "# clean_single_track_gtps contains gtp files that have:\n",
        "# unified volume, clean guitar tone, no repeats, no mixTableChanges\n",
        "CLEAN_SINGLE_TRACK_DIR = \"/Volumes/MacOnly/UG_proc/all_time_top_by_hits/clean_single_track_gtps\"\n",
        "\n",
        "i = 0\n",
        "for file in glob.glob(os.path.join(MULTI_TRACK_DIR, \"*.gp*\")):\n",
        "  i += 1\n",
        "  print(f\"processing file {i}: {file.split('/')[-1]}\")\n",
        "  get_single_tracks(file=file, output_dir=CLEAN_SINGLE_TRACK_DIR)"
      ]
    },
    {
      "cell_type": "markdown",
      "metadata": {},
      "source": [
        "## Segment single-track audio into poly and mono segments"
      ]
    },
    {
      "cell_type": "code",
      "execution_count": 4,
      "metadata": {},
      "outputs": [],
      "source": [
        "# a test\n",
        "file_name = \"DragonForce - Through The Fire And Flames_Lead 2.gp5\"\n",
        "song = guitarpro.parse(os.path.join(CLEAN_SINGLE_TRACK_DIR, file_name))\n",
        "poly, mono = poly_vs_mono(song)"
      ]
    },
    {
      "cell_type": "code",
      "execution_count": 5,
      "metadata": {},
      "outputs": [
        {
          "data": {
            "text/plain": [
              "[[37.2, 38.400000000000006],\n",
              " [288.6, 289.2],\n",
              " [289.8, 290.4],\n",
              " [414.0, 418.79999999999995]]"
            ]
          },
          "execution_count": 5,
          "metadata": {},
          "output_type": "execute_result"
        }
      ],
      "source": [
        "poly"
      ]
    },
    {
      "cell_type": "code",
      "execution_count": 6,
      "metadata": {},
      "outputs": [
        {
          "data": {
            "text/plain": [
              "[[0.0, 37.2],\n",
              " [38.4, 288.59999999999997],\n",
              " [289.2, 289.8],\n",
              " [290.4, 414.0],\n",
              " [418.8, 433.2]]"
            ]
          },
          "execution_count": 6,
          "metadata": {},
          "output_type": "execute_result"
        }
      ],
      "source": [
        "mono"
      ]
    },
    {
      "cell_type": "code",
      "execution_count": 13,
      "metadata": {},
      "outputs": [
        {
          "name": "stdout",
          "output_type": "stream",
          "text": [
            "processing file 1: DragonForce - Through The Fire And Flames_Lead 2\n",
            "processing file 5: Eagles - Hotel California_Guitar 2\n"
          ]
        }
      ],
      "source": [
        "# CLEAN_SINGLE_TRACK_DIR = \"/Volumes/MacOnly/UG_proc/all_time_top_by_hits/clean_single_track_gtps\"\n",
        "CLEAN_SINGLE_TRACK_DIR = \"/Volumes/MacOnly/UG_proc/all_time_top_by_hits/test\"\n",
        "SINGLE_TRACK_AUDIO_DIR = \"/Volumes/MacOnly/UG_proc/all_time_top_by_hits/clean_single_track_audio\"\n",
        "POLY_SEGMENTS_DIR = \"/Volumes/MacOnly/UG_proc/all_time_top_by_hits/poly_audio_segments\"\n",
        "MONO_SEGMENTS_DIR = \"/Volumes/MacOnly/UG_proc/all_time_top_by_hits/mono_audio_segments\"\n",
        "\n",
        "i = 0\n",
        "for file in glob.glob(os.path.join(CLEAN_SINGLE_TRACK_DIR, \"*.gp5\")):\n",
        "  i += 1\n",
        "  track_title, _ = os.path.splitext(file.split('/')[-1])\n",
        "  print(f\"processing file {i}: {track_title}\")\n",
        "  \n",
        "  song = guitarpro.parse(file)\n",
        "  poly, mono = poly_vs_mono(song)\n",
        "\n",
        "  y, sr = librosa.load(os.path.join(SINGLE_TRACK_AUDIO_DIR, track_title+\".wav\"), sr=None, mono=True)\n",
        "\n",
        "  for i, poly_segment in enumerate(poly):\n",
        "    start_sec = poly_segment[0]\n",
        "    end_sec = poly_segment[1]\n",
        "    segment = y[int(start_sec*sr) : int(end_sec*sr)]\n",
        "    # write segment to file, store it in the \"poly\" folder\n",
        "    segment_file_name = \"{}_{}_{}s.wav\".format(track_title, i, int(start_sec))\n",
        "    soundfile.write(os.path.join(POLY_SEGMENTS_DIR, segment_file_name), segment, sr)\n",
        "  \n",
        "  for i, mono_segment in enumerate(mono):\n",
        "    start_sec = mono_segment[0]\n",
        "    end_sec = mono_segment[1]\n",
        "    segment = y[int(start_sec*sr) : int(end_sec*sr)]\n",
        "    # write segment to file, store it in the \"mono\" folder\n",
        "    segment_file_name = \"{}_{}_{}s.wav\".format(track_title, i, int(start_sec))\n",
        "    soundfile.write(os.path.join(MONO_SEGMENTS_DIR, segment_file_name), segment, sr)\n",
        "  "
      ]
    },
    {
      "cell_type": "markdown",
      "metadata": {
        "id": "bnEFGkWafWoA"
      },
      "source": [
        "## Break the single-track gtp files into 4-bar phrases"
      ]
    },
    {
      "cell_type": "code",
      "execution_count": null,
      "metadata": {
        "id": "xOMt22c3ywoT"
      },
      "outputs": [],
      "source": [
        "SINGLE_TRACK_DIR = \"/Volumes/MacOnly/UG_proc/all_time_top_by_hits/single_track_gtps\"\n",
        "PHRASE_DIR = \"/Volumes/MacOnly/UG_proc/all_time_top_by_hits/phrase_gtps\"\n",
        "for file in glob.glob(os.path.join(SINGLE_TRACK_DIR, \"*.gp*\")):\n",
        "  print(f\"processing {file.split('/')[-1]}\")\n",
        "  get_phrases(file, PHRASE_DIR)"
      ]
    },
    {
      "cell_type": "code",
      "execution_count": 12,
      "metadata": {},
      "outputs": [],
      "source": [
        "PHRASE_DIR = \"/Volumes/MacOnly/UG_proc/all_time_top_by_hits/phrase_gtps\"\n",
        "file_name = \"ACDC - Highway To Hell (ver 3)_Guitar 2_6.gp5\"\n",
        "song = guitarpro.parse(os.path.join(PHRASE_DIR, file_name))\n",
        "poly, mono = poly_vs_mono(song)"
      ]
    },
    {
      "cell_type": "markdown",
      "metadata": {},
      "source": [
        "BELOW IS SUBJECT TO CHANGE"
      ]
    },
    {
      "cell_type": "code",
      "execution_count": null,
      "metadata": {
        "id": "c9R722GY1ta8"
      },
      "outputs": [],
      "source": [
        "JSON_DIR = \"/content/drive/MyDrive/UG/proc_phrases_anno\"\n",
        "for file in glob.glob(os.path.join(PHRASE_DIR, \"*.gp*\")):\n",
        "  print(f\"processing {file.split('/')[-1]}\")\n",
        "  # get_anno(file, JSON_DIR)"
      ]
    },
    {
      "cell_type": "code",
      "execution_count": null,
      "metadata": {
        "id": "LmOhJL2enLvE"
      },
      "outputs": [],
      "source": [
        "# \"Led Zeppelin - Stairway To Heaven_4_34\" seems to be empty because of tied notes from the previous phrase"
      ]
    },
    {
      "cell_type": "code",
      "execution_count": 29,
      "metadata": {
        "colab": {
          "base_uri": "https://localhost:8080/"
        },
        "id": "drX8parZtbMU",
        "outputId": "a7b2a1aa-c094-4f1b-a5f9-028b992a2837"
      },
      "outputs": [
        {
          "data": {
            "text/plain": [
              "MixTableItem(value=200, duration=0, allTracks=False)"
            ]
          },
          "execution_count": 29,
          "metadata": {},
          "output_type": "execute_result"
        }
      ],
      "source": [
        "file = \"/content/drive/MyDrive/tempochange.gp5\"\n",
        "song = guitarpro.parse(file)\n",
        "song.tracks[0].measures[1].voices[0].beats[2].effect.mixTableChange.tempo"
      ]
    },
    {
      "cell_type": "code",
      "execution_count": 33,
      "metadata": {
        "colab": {
          "base_uri": "https://localhost:8080/"
        },
        "id": "eg1bmSFi0X6Q",
        "outputId": "894f9929-7bb0-4823-8f33-90382e5e846c"
      },
      "outputs": [
        {
          "data": {
            "text/plain": [
              "4800"
            ]
          },
          "execution_count": 33,
          "metadata": {},
          "output_type": "execute_result"
        }
      ],
      "source": [
        "song.tracks[0].measures[1].voices[0].beats[0].start"
      ]
    },
    {
      "cell_type": "code",
      "execution_count": 41,
      "metadata": {
        "colab": {
          "base_uri": "https://localhost:8080/"
        },
        "id": "2PHfq34s6d6P",
        "outputId": "4083c23f-4818-4abb-e9b0-960e9394d4dd"
      },
      "outputs": [
        {
          "data": {
            "text/plain": [
              "960"
            ]
          },
          "execution_count": 41,
          "metadata": {},
          "output_type": "execute_result"
        }
      ],
      "source": [
        "song.tracks[0].measures[1].voices[0].beats[1].duration.time"
      ]
    },
    {
      "cell_type": "code",
      "execution_count": 53,
      "metadata": {
        "colab": {
          "base_uri": "https://localhost:8080/"
        },
        "id": "tXRzw6le6nRk",
        "outputId": "7157ee44-6e3f-4f7b-e8da-6609f0a0ea2b"
      },
      "outputs": [
        {
          "data": {
            "text/plain": [
              "[<guitarpro.models.Beat at 0x7faab7e9dcd0>,\n",
              " <guitarpro.models.Beat at 0x7faab4308590>,\n",
              " <guitarpro.models.Beat at 0x7faab3d43d90>,\n",
              " <guitarpro.models.Beat at 0x7faab3d6c410>]"
            ]
          },
          "execution_count": 53,
          "metadata": {},
          "output_type": "execute_result"
        }
      ],
      "source": [
        "song.tracks[0].measures[1].voices[0].beats"
      ]
    },
    {
      "cell_type": "code",
      "execution_count": 37,
      "metadata": {
        "colab": {
          "base_uri": "https://localhost:8080/"
        },
        "id": "cTMpa5oT6rPE",
        "outputId": "06fd6168-225e-4760-c720-88b9421513cd"
      },
      "outputs": [
        {
          "data": {
            "text/plain": [
              "7680"
            ]
          },
          "execution_count": 37,
          "metadata": {},
          "output_type": "execute_result"
        }
      ],
      "source": [
        "song.tracks[0].measures[1].voices[0].beats[3].start"
      ]
    },
    {
      "cell_type": "code",
      "execution_count": 58,
      "metadata": {
        "colab": {
          "base_uri": "https://localhost:8080/"
        },
        "id": "it5wXGdt_q5g",
        "outputId": "42d7a3f2-6013-48de-f105-7b2b79b2a122"
      },
      "outputs": [
        {
          "data": {
            "text/plain": [
              "1920"
            ]
          },
          "execution_count": 58,
          "metadata": {},
          "output_type": "execute_result"
        }
      ],
      "source": [
        "file = \"/content/drive/MyDrive/repeat.gp5\"\n",
        "song = guitarpro.parse(file)\n",
        "song.tracks[0].measures[0].voices[0].beats[-1].duration.time"
      ]
    }
  ],
  "metadata": {
    "colab": {
      "authorship_tag": "ABX9TyNsU84JTKsDYr0YlXCxOteV",
      "collapsed_sections": [
        "Da4NwbioglZk"
      ],
      "include_colab_link": true,
      "mount_file_id": "1QKchDRyQSEjKJ03k2Q7-aT4KSBYHtlYB",
      "name": "anno_gen.ipynb",
      "provenance": []
    },
    "kernelspec": {
      "display_name": "Python 3",
      "name": "python3"
    },
    "language_info": {
      "codemirror_mode": {
        "name": "ipython",
        "version": 3
      },
      "file_extension": ".py",
      "mimetype": "text/x-python",
      "name": "python",
      "nbconvert_exporter": "python",
      "pygments_lexer": "ipython3",
      "version": "3.7.11"
    }
  },
  "nbformat": 4,
  "nbformat_minor": 0
}
