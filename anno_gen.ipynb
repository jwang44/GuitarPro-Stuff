{
  "cells": [
    {
      "cell_type": "markdown",
      "metadata": {
        "colab_type": "text",
        "id": "view-in-github"
      },
      "source": [
        "<a href=\"https://colab.research.google.com/github/jwang44/GuitarPro-Stuff/blob/main/anno_gen.ipynb\" target=\"_parent\"><img src=\"https://colab.research.google.com/assets/colab-badge.svg\" alt=\"Open In Colab\"/></a>"
      ]
    },
    {
      "cell_type": "code",
      "execution_count": null,
      "metadata": {},
      "outputs": [],
      "source": [
        "%load_ext autoreload"
      ]
    },
    {
      "cell_type": "code",
      "execution_count": 42,
      "metadata": {
        "id": "hbty8-qenfRV"
      },
      "outputs": [],
      "source": [
        "%autoreload\n",
        "import os\n",
        "import glob\n",
        "import guitarpro\n",
        "import json\n",
        "from utils import *\n",
        "from operations import *"
      ]
    },
    {
      "cell_type": "markdown",
      "metadata": {
        "id": "Da4NwbioglZk"
      },
      "source": [
        "## Break multi-track gtp files into single-track gtp files"
      ]
    },
    {
      "cell_type": "code",
      "execution_count": 34,
      "metadata": {
        "colab": {
          "base_uri": "https://localhost:8080/"
        },
        "id": "F5NB_nA48xVN",
        "outputId": "92b73403-c83c-47da-80c0-a709cbb13709"
      },
      "outputs": [
        {
          "name": "stdout",
          "output_type": "stream",
          "text": [
            "processing file 1: ACDC - Back In Black (ver 4 by GuitarManiac09).gp5\n",
            "processing file 2: ACDC - Back In Black.gp5\n",
            "processing file 3: ACDC - Highway To Hell (ver 3).gp5\n",
            "processing file 4: Adele - Rolling In The Deep.gp5\n",
            "processing file 5: Aerosmith - Dream On (ver 3).gp5\n",
            "processing file 6: Avenged Sevenfold - Afterlife.gp5\n",
            "processing file 7: Avenged Sevenfold - Beast And The Harlot.gp5\n",
            "processing file 8: Avenged Sevenfold - Unholy Confessions.gp4\n",
            "processing file 9: Black Sabbath - Iron Man (ver 3 by jessew).gp4\n",
            "processing file 10: Black Sabbath - Paranoid.gp5\n",
            "processing file 11: Bullet For My Valentine - Tears Dont Fall (ver 2 by dannyloughran).gp4\n",
            "processing file 12: Bullet For My Valentine - Waking The Demon.gp5\n",
            "processing file 13: Chuck Berry - Johnny B Goode (ver 6).gp5\n",
            "processing file 14: Deep Purple - Smoke On The Water.gp4\n",
            "processing file 15: Dire Straits - Sultans Of Swing.gp5\n",
            "processing file 16: DragonForce - Through The Fire And Flames.gp5\n",
            "processing file 17: Eagles - Hotel California.gp3\n",
            "processing file 18: Eric Clapton - Layla (ver 2).gp4\n",
            "processing file 19: Eric Clapton - Tears In Heaven.gp3\n",
            "processing file 20: Eric Johnson - Cliffs Of Dover (ver 2 by lem_ian).gp5\n",
            "processing file 21: Extreme - More Than Words (ver 3).gp5\n",
            "processing file 22: Foo Fighters - Everlong.gp4\n",
            "processing file 23: Foo Fighters - The Pretender.gp4\n",
            "processing file 24: Gary Moore - Still Got The Blues.gp3\n",
            "processing file 25: Green Day - 21 Guns (ver 4 by tangoso).gp5\n",
            "processing file 26: Green Day - American Idiot (ver 2).gp5\n",
            "processing file 27: Green Day - Wake Me Up When September Ends (ver 3).gp5\n",
            "processing file 28: Guns N' Roses - Dont Cry.gp3\n",
            "processing file 29: Guns N' Roses - Knockin On Heavens Door (ver 8).gp4\n",
            "processing file 30: Guns N' Roses - November Rain (ver 2).gp5\n",
            "processing file 31: Guns N' Roses - Sweet Child O Mine (ver 2).gp4\n",
            "processing file 32: Guns N' Roses - Welcome To The Jungle (ver 3).gp4\n",
            "processing file 33: Iron Maiden - Fear Of The Dark.gp4\n",
            "processing file 34: Iron Maiden - The Trooper (ver 5).gp5\n",
            "processing file 35: Iron Maiden - The Trooper.gp4\n",
            "processing file 36: Jason Mraz - Im Yours (ver 3 by Maitinin).gp5\n",
            "processing file 37: JerryC - Canon Rock.gp4\n",
            "processing file 38: Jet - Are You Gonna Be My Girl.gp4\n",
            "processing file 39: Jimi Hendrix - All Along The Watchtower (ver 2).gp3\n",
            "processing file 40: Jimi Hendrix - Hey Joe (ver 2).gp3\n",
            "processing file 41: Jimi Hendrix - Little Wing.gp3\n",
            "processing file 42: Kansas - Dust In The Wind.gp5\n",
            "processing file 43: Lamb of God - Laid To Rest.gp5\n",
            "processing file 44: Led Zeppelin - Black Dog.gp5\n",
            "processing file 45: Led Zeppelin - Stairway To Heaven.gp5\n",
            "processing file 46: Lynyrd Skynyrd - Free Bird.gp5\n",
            "processing file 47: Lynyrd Skynyrd - Sweet Home Alabama.gp5\n",
            "processing file 48: Marilyn Manson - Sweet Dreams Are Made Of This (ver 2).gp5\n",
            "processing file 49: Megadeth - Symphony Of Destruction (ver 6 by Hanger.18).gp5\n",
            "processing file 50: Metallica - Battery (ver 2).gp3\n",
            "processing file 51: Metallica - Creeping Death.gp5\n",
            "processing file 52: Metallica - Enter Sandman (ver 5).gp4\n",
            "processing file 53: Metallica - Enter Sandman.gp5\n",
            "processing file 54: Metallica - Fade To Black (ver 4).gp5\n",
            "processing file 55: Metallica - For Whom The Bell Tolls.gp3\n",
            "processing file 56: Metallica - Master Of Puppets (ver 4 by DUDERMAN).gp5\n",
            "processing file 57: Metallica - Master Of Puppets.gp3\n",
            "processing file 58: Metallica - Nothing Else Matters (ver 5).gp5\n",
            "processing file 59: Metallica - Nothing Else Matters (ver 6).gp3\n",
            "processing file 60: Metallica - Nothing Else Matters (ver 7).gp4\n",
            "processing file 61: Metallica - One (ver 2).gp5\n",
            "processing file 62: Metallica - Orion (ver 5).gp4\n",
            "processing file 63: Metallica - Seek And Destroy (ver 2).gp5\n",
            "processing file 64: Metallica - The Day That Never Comes.gp4\n",
            "processing file 65: Metallica - Welcome Home Sanitarium.gp4\n",
            "processing file 66: Michael Jackson - Beat It.gp4\n",
            "processing file 67: Michael Jackson - Beat It.gp5\n",
            "processing file 68: Misc Computer Games - Super Mario Brothers Theme (ver 2 by nay-palm).gp5\n",
            "processing file 69: Misc Soundtrack - Pirates Of The Caribbean - Hes A Pirate (ver 5 by jariss).gp5\n",
            "processing file 70: Misc Soundtrack - Pirates Of The Caribbean - Hes A Pirate (ver 9 by ccb51310).gp5\n",
            "processing file 71: Motörhead - Ace Of Spades.gp5\n",
            "processing file 72: Muse - Hysteria.gp4\n",
            "processing file 73: Muse - Knights Of Cydonia.gp5\n",
            "processing file 74: Nirvana - Come As You Are.gp3\n",
            "processing file 75: Nirvana - Smells Like Teen Spirit (ver 2).gp5\n",
            "processing file 76: Oasis - Wonderwall.gp4\n",
            "processing file 77: Ozzy Osbourne - Crazy Train.gp5\n",
            "processing file 78: Pantera - Cemetery Gates (ver 4).gp5\n",
            "processing file 79: Pantera - Cowboys From Hell (ver 2).gp3\n",
            "processing file 80: Pink Floyd - Another Brick In The Wall Part 2.gp4\n",
            "processing file 81: Pink Floyd - Comfortably Numb.gp3\n",
            "processing file 82: Pink Floyd - Wish You Were Here (ver 5).gp5\n",
            "processing file 83: Pink Floyd - Wish You Were Here.gp4\n",
            "processing file 84: Queen - Bohemian Rhapsody.gp5\n",
            "processing file 85: Red Hot Chili Peppers - Californication (ver 3).gp5\n"
          ]
        },
        {
          "name": "stderr",
          "output_type": "stream",
          "text": [
            "9 is an unknown ChordExtension in track 1, measure 38, voice 1, beat 1\n",
            "9 is an unknown ChordExtension in track 1, measure 39, voice 1, beat 7\n"
          ]
        },
        {
          "name": "stdout",
          "output_type": "stream",
          "text": [
            "processing file 86: Red Hot Chili Peppers - Cant Stop (ver 5).gp4\n",
            "processing file 87: Red Hot Chili Peppers - Scar Tissue.gp4\n",
            "processing file 88: Red Hot Chili Peppers - Snow Hey Oh.gp5\n",
            "processing file 89: Red Hot Chili Peppers - Under The Bridge (ver 6 by dorissie).gp5\n",
            "processing file 90: Red Hot Chili Peppers - Under The Bridge.gp5\n",
            "processing file 91: Santana - Europa.gp3\n",
            "processing file 92: Scorpions - Rock You Like A Hurricane (ver 2).gp5\n",
            "processing file 93: Scorpions - Still Loving You (ver 3).gp5\n",
            "processing file 94: Slayer - Raining Blood (ver 3).gp4\n",
            "processing file 95: System Of A Down - Chop Suey (ver 6 by Benzie101).gp5\n",
            "processing file 96: System Of A Down - Toxicity.gp4\n",
            "processing file 97: The Beatles - Yesterday.gp5\n",
            "processing file 98: The Strokes - Reptilia.gp5\n",
            "processing file 99: The White Stripes - Seven Nation Army.gp3\n",
            "processing file 100: Thin Lizzy - Got To Give It Up.gp5\n"
          ]
        }
      ],
      "source": [
        "# get single track gtps\n",
        "MULTI_TRACK_DIR = \"/Volumes/MacOnly/UG_raw/all_time_top_by_hits\"\n",
        "SINGLE_TRACK_DIR = \"/Volumes/MacOnly/UG_proc/all_time_top_by_hits/single_track_gtps\"\n",
        "\n",
        "i = 0\n",
        "for file in glob.glob(os.path.join(MULTI_TRACK_DIR, \"*.gp*\")):\n",
        "  i += 1\n",
        "  print(f\"processing file {i}: {file.split('/')[-1]}\")\n",
        "  get_single_tracks(file=file, output_dir=SINGLE_TRACK_DIR)"
      ]
    },
    {
      "cell_type": "markdown",
      "metadata": {
        "id": "bnEFGkWafWoA"
      },
      "source": [
        "## Break the single-track gtp files into 4-bar phrases"
      ]
    },
    {
      "cell_type": "code",
      "execution_count": null,
      "metadata": {
        "id": "xOMt22c3ywoT"
      },
      "outputs": [],
      "source": [
        "SINGLE_TRACK_DIR = \"/Volumes/MacOnly/UG_proc/all_time_top_by_hits/single_track_gtps\"\n",
        "PHRASE_DIR = \"/Volumes/MacOnly/UG_proc/all_time_top_by_hits/phrase_gtps\"\n",
        "for file in glob.glob(os.path.join(SINGLE_TRACK_DIR, \"*.gp*\")):\n",
        "  print(f\"processing {file.split('/')[-1]}\")\n",
        "  get_phrases(file, PHRASE_DIR)\n",
        "# this is not run yet, go modify the get_phrases function first"
      ]
    },
    {
      "cell_type": "code",
      "execution_count": 43,
      "metadata": {},
      "outputs": [
        {
          "name": "stdout",
          "output_type": "stream",
          "text": [
            "empty measure found in ACDC - Highway To Hell (ver 3)_Guitar 2.gp5 - 0\n",
            "empty measure found in ACDC - Highway To Hell (ver 3)_Guitar 2.gp5 - 1\n",
            "empty measure found in ACDC - Highway To Hell (ver 3)_Guitar 2.gp5 - 2\n",
            "empty measure found in ACDC - Highway To Hell (ver 3)_Guitar 2.gp5 - 3\n",
            "empty measure found in ACDC - Highway To Hell (ver 3)_Guitar 2.gp5 - 4\n",
            "empty measure found in ACDC - Highway To Hell (ver 3)_Guitar 2.gp5 - 5\n",
            "empty measure found in ACDC - Highway To Hell (ver 3)_Guitar 2.gp5 - 9\n",
            "empty measure found in ACDC - Highway To Hell (ver 3)_Guitar 2.gp5 - 10\n",
            "empty measure found in ACDC - Highway To Hell (ver 3)_Guitar 2.gp5 - 11\n"
          ]
        }
      ],
      "source": [
        "# a test\n",
        "file = \"/Volumes/MacOnly/UG_proc/all_time_top_by_hits/single_track_gtps/ACDC - Highway To Hell (ver 3)_Guitar 2.gp5\"\n",
        "PHRASE_DIR = \"/Volumes/MacOnly/UG_proc/all_time_top_by_hits/phrase_gtps\"\n",
        "get_phrases(file, output_dir=PHRASE_DIR)"
      ]
    },
    {
      "cell_type": "markdown",
      "metadata": {},
      "source": [
        "BELOW IS SUBJECT TO CHANGE"
      ]
    },
    {
      "cell_type": "code",
      "execution_count": null,
      "metadata": {
        "id": "c9R722GY1ta8"
      },
      "outputs": [],
      "source": [
        "JSON_DIR = \"/content/drive/MyDrive/UG/proc_phrases_anno\"\n",
        "for file in glob.glob(os.path.join(PHRASE_DIR, \"*.gp*\")):\n",
        "  print(f\"processing {file.split('/')[-1]}\")\n",
        "  get_anno(file, JSON_DIR)"
      ]
    },
    {
      "cell_type": "code",
      "execution_count": null,
      "metadata": {
        "id": "LmOhJL2enLvE"
      },
      "outputs": [],
      "source": [
        "# \"Led Zeppelin - Stairway To Heaven_4_34\" seems to be empty because of tied notes from the previous phrase"
      ]
    },
    {
      "cell_type": "code",
      "execution_count": 29,
      "metadata": {
        "colab": {
          "base_uri": "https://localhost:8080/"
        },
        "id": "drX8parZtbMU",
        "outputId": "a7b2a1aa-c094-4f1b-a5f9-028b992a2837"
      },
      "outputs": [
        {
          "data": {
            "text/plain": [
              "MixTableItem(value=200, duration=0, allTracks=False)"
            ]
          },
          "execution_count": 29,
          "metadata": {},
          "output_type": "execute_result"
        }
      ],
      "source": [
        "file = \"/content/drive/MyDrive/tempochange.gp5\"\n",
        "song = guitarpro.parse(file)\n",
        "song.tracks[0].measures[1].voices[0].beats[2].effect.mixTableChange.tempo"
      ]
    },
    {
      "cell_type": "code",
      "execution_count": 33,
      "metadata": {
        "colab": {
          "base_uri": "https://localhost:8080/"
        },
        "id": "eg1bmSFi0X6Q",
        "outputId": "894f9929-7bb0-4823-8f33-90382e5e846c"
      },
      "outputs": [
        {
          "data": {
            "text/plain": [
              "4800"
            ]
          },
          "execution_count": 33,
          "metadata": {},
          "output_type": "execute_result"
        }
      ],
      "source": [
        "song.tracks[0].measures[1].voices[0].beats[0].start"
      ]
    },
    {
      "cell_type": "code",
      "execution_count": 41,
      "metadata": {
        "colab": {
          "base_uri": "https://localhost:8080/"
        },
        "id": "2PHfq34s6d6P",
        "outputId": "4083c23f-4818-4abb-e9b0-960e9394d4dd"
      },
      "outputs": [
        {
          "data": {
            "text/plain": [
              "960"
            ]
          },
          "execution_count": 41,
          "metadata": {},
          "output_type": "execute_result"
        }
      ],
      "source": [
        "song.tracks[0].measures[1].voices[0].beats[1].duration.time"
      ]
    },
    {
      "cell_type": "code",
      "execution_count": 53,
      "metadata": {
        "colab": {
          "base_uri": "https://localhost:8080/"
        },
        "id": "tXRzw6le6nRk",
        "outputId": "7157ee44-6e3f-4f7b-e8da-6609f0a0ea2b"
      },
      "outputs": [
        {
          "data": {
            "text/plain": [
              "[<guitarpro.models.Beat at 0x7faab7e9dcd0>,\n",
              " <guitarpro.models.Beat at 0x7faab4308590>,\n",
              " <guitarpro.models.Beat at 0x7faab3d43d90>,\n",
              " <guitarpro.models.Beat at 0x7faab3d6c410>]"
            ]
          },
          "execution_count": 53,
          "metadata": {},
          "output_type": "execute_result"
        }
      ],
      "source": [
        "song.tracks[0].measures[1].voices[0].beats"
      ]
    },
    {
      "cell_type": "code",
      "execution_count": 37,
      "metadata": {
        "colab": {
          "base_uri": "https://localhost:8080/"
        },
        "id": "cTMpa5oT6rPE",
        "outputId": "06fd6168-225e-4760-c720-88b9421513cd"
      },
      "outputs": [
        {
          "data": {
            "text/plain": [
              "7680"
            ]
          },
          "execution_count": 37,
          "metadata": {},
          "output_type": "execute_result"
        }
      ],
      "source": [
        "song.tracks[0].measures[1].voices[0].beats[3].start"
      ]
    },
    {
      "cell_type": "code",
      "execution_count": 58,
      "metadata": {
        "colab": {
          "base_uri": "https://localhost:8080/"
        },
        "id": "it5wXGdt_q5g",
        "outputId": "42d7a3f2-6013-48de-f105-7b2b79b2a122"
      },
      "outputs": [
        {
          "data": {
            "text/plain": [
              "1920"
            ]
          },
          "execution_count": 58,
          "metadata": {},
          "output_type": "execute_result"
        }
      ],
      "source": [
        "file = \"/content/drive/MyDrive/repeat.gp5\"\n",
        "song = guitarpro.parse(file)\n",
        "song.tracks[0].measures[0].voices[0].beats[-1].duration.time"
      ]
    }
  ],
  "metadata": {
    "colab": {
      "authorship_tag": "ABX9TyNsU84JTKsDYr0YlXCxOteV",
      "collapsed_sections": [
        "Da4NwbioglZk"
      ],
      "include_colab_link": true,
      "mount_file_id": "1QKchDRyQSEjKJ03k2Q7-aT4KSBYHtlYB",
      "name": "anno_gen.ipynb",
      "provenance": []
    },
    "kernelspec": {
      "display_name": "Python 3",
      "name": "python3"
    },
    "language_info": {
      "codemirror_mode": {
        "name": "ipython",
        "version": 3
      },
      "file_extension": ".py",
      "mimetype": "text/x-python",
      "name": "python",
      "nbconvert_exporter": "python",
      "pygments_lexer": "ipython3",
      "version": "3.7.11"
    }
  },
  "nbformat": 4,
  "nbformat_minor": 0
}
