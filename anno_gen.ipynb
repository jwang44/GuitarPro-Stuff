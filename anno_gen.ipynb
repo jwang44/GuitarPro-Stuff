{
  "cells": [
    {
      "cell_type": "code",
      "execution_count": 2,
      "metadata": {},
      "outputs": [],
      "source": [
        "%load_ext autoreload"
      ]
    },
    {
      "cell_type": "code",
      "execution_count": 3,
      "metadata": {
        "id": "hbty8-qenfRV"
      },
      "outputs": [],
      "source": [
        "%autoreload 2\n",
        "import os\n",
        "import glob\n",
        "import guitarpro\n",
        "import librosa, soundfile\n",
        "import numpy as np\n",
        "import scipy\n",
        "from utils import *\n",
        "from operations import *"
      ]
    },
    {
      "cell_type": "markdown",
      "metadata": {
        "id": "Da4NwbioglZk"
      },
      "source": [
        "## Break multi-track gtp files into single-track gtp files"
      ]
    },
    {
      "cell_type": "code",
      "execution_count": null,
      "metadata": {
        "colab": {
          "base_uri": "https://localhost:8080/"
        },
        "id": "F5NB_nA48xVN",
        "outputId": "92b73403-c83c-47da-80c0-a709cbb13709"
      },
      "outputs": [],
      "source": [
        "MULTI_TRACK_DIR = \"/Volumes/MacOnly/UG_raw/all_time_top_by_hits\"\n",
        "SINGLE_TRACK_DIR = \"/Volumes/MacOnly/UG_proc/all_time_top_by_hits/single_track_gtps\"\n",
        "\n",
        "i = 0\n",
        "for file in glob.glob(os.path.join(MULTI_TRACK_DIR, \"*.gp*\")):\n",
        "    i += 1\n",
        "    print(f\"processing file {i}: {file.split('/')[-1]}\")\n",
        "    get_single_tracks(\n",
        "        file=file,\n",
        "        output_dir=SINGLE_TRACK_DIR,\n",
        "        unify_volume=True,\n",
        "        force_clean=False,\n",
        "        disable_repeats=False,\n",
        "        disable_mixTableChange=False,\n",
        "    )\n",
        "\n"
      ]
    },
    {
      "cell_type": "code",
      "execution_count": null,
      "metadata": {},
      "outputs": [],
      "source": [
        "MULTI_TRACK_DIR = \"/Volumes/MacOnly/UG_raw/all_time_top_by_hits\"\n",
        "# clean_single_track_gtps contains gtp files that have:\n",
        "# unified volume, clean guitar tone, no repeats, no mixTableChanges\n",
        "CLEAN_SINGLE_TRACK_DIR = (\n",
        "    \"/Volumes/MacOnly/UG_proc/all_time_top_by_hits/clean_single_track_gtps\"\n",
        ")\n",
        "\n",
        "i = 0\n",
        "for file in glob.glob(os.path.join(MULTI_TRACK_DIR, \"*.gp*\")):\n",
        "    i += 1\n",
        "    print(f\"processing file {i}: {file.split('/')[-1]}\")\n",
        "    get_single_tracks(file=file, output_dir=CLEAN_SINGLE_TRACK_DIR)\n",
        "\n"
      ]
    },
    {
      "cell_type": "markdown",
      "metadata": {},
      "source": [
        "## Segment single-track audio into poly and mono segments (GT)"
      ]
    },
    {
      "cell_type": "code",
      "execution_count": 4,
      "metadata": {},
      "outputs": [],
      "source": [
        "# a test\n",
        "file_name = \"DragonForce - Through The Fire And Flames_Lead 2.gp5\"\n",
        "song = guitarpro.parse(os.path.join(CLEAN_SINGLE_TRACK_DIR, file_name))\n",
        "poly, mono = poly_vs_mono(song)\n"
      ]
    },
    {
      "cell_type": "code",
      "execution_count": 5,
      "metadata": {},
      "outputs": [
        {
          "data": {
            "text/plain": [
              "[[37.2, 38.400000000000006],\n",
              " [288.6, 289.2],\n",
              " [289.8, 290.4],\n",
              " [414.0, 418.79999999999995]]"
            ]
          },
          "execution_count": 5,
          "metadata": {},
          "output_type": "execute_result"
        }
      ],
      "source": [
        "poly\n"
      ]
    },
    {
      "cell_type": "code",
      "execution_count": 6,
      "metadata": {},
      "outputs": [
        {
          "data": {
            "text/plain": [
              "[[0.0, 37.2],\n",
              " [38.4, 288.59999999999997],\n",
              " [289.2, 289.8],\n",
              " [290.4, 414.0],\n",
              " [418.8, 433.2]]"
            ]
          },
          "execution_count": 6,
          "metadata": {},
          "output_type": "execute_result"
        }
      ],
      "source": [
        "mono\n"
      ]
    },
    {
      "cell_type": "code",
      "execution_count": 4,
      "metadata": {},
      "outputs": [
        {
          "name": "stdout",
          "output_type": "stream",
          "text": [
            "processing file 1: ACDC - Back In Black (ver 4 by GuitarManiac09)_Angus Young\n",
            "processing file 2: ACDC - Back In Black (ver 4 by GuitarManiac09)_Malcolm Young\n",
            "processing file 3: ACDC - Back In Black_Guitar 1\n",
            "processing file 4: ACDC - Back In Black_Guitar 2\n",
            "processing file 5: ACDC - Back In Black_Guitar 3\n",
            "processing file 6: ACDC - Highway To Hell (ver 3)_Guitar 2\n",
            "processing file 7: ACDC - Highway To Hell (ver 3)_Guitar\n",
            "processing file 8: Adele - Rolling In The Deep_Acoustic guitar (muted)\n",
            "processing file 9: Adele - Rolling In The Deep_Electric guitar\n",
            "processing file 10: Aerosmith - Dream On (ver 3)_Guitar 1 (dist)\n",
            "processing file 11: Aerosmith - Dream On (ver 3)_Guitar 1\n",
            "processing file 12: Aerosmith - Dream On (ver 3)_Guitar 2\n",
            "processing file 13: Avenged Sevenfold - Afterlife_  Synyster Gates - Rhythm\n",
            "processing file 14: Avenged Sevenfold - Afterlife_  Zacky Vengeance - Lead\n",
            "processing file 15: Avenged Sevenfold - Afterlife_  Zacky Vengeance - Rhythm\n",
            "processing file 16: Avenged Sevenfold - Afterlife_- Synyster Gates - Lead\n",
            "processing file 17: Avenged Sevenfold - Beast And The Harlot_Guitar 1\n",
            "processing file 18: Avenged Sevenfold - Beast And The Harlot_Guitar 2\n",
            "processing file 19: Avenged Sevenfold - Beast And The Harlot_Guitar 3\n",
            "processing file 20: Avenged Sevenfold - Unholy Confessions_Gtr. 1\n",
            "processing file 21: Avenged Sevenfold - Unholy Confessions_Gtr. 2\n",
            "processing file 22: Avenged Sevenfold - Unholy Confessions_Gtr. 3\n",
            "processing file 23: Avenged Sevenfold - Unholy Confessions_Gtr. 4\n",
            "processing file 24: Black Sabbath - Iron Man (ver 3 by jessew)_Solo Dubs\n",
            "processing file 25: Black Sabbath - Iron Man (ver 3 by jessew)_Tony Iommi\n",
            "processing file 26: Black Sabbath - Paranoid_lead guitar\n",
            "processing file 27: Black Sabbath - Paranoid_rhythm guitar 1\n",
            "processing file 28: Bullet For My Valentine - Tears Dont Fall (ver 2 by dannyloughran)_Matt Tuck\n",
            "processing file 29: Bullet For My Valentine - Tears Dont Fall (ver 2 by dannyloughran)_Michael Padget\n",
            "processing file 30: Bullet For My Valentine - Waking The Demon_Guitar 1 Left\n",
            "processing file 31: Bullet For My Valentine - Waking The Demon_Guitar 2 Right\n",
            "processing file 32: Bullet For My Valentine - Waking The Demon_Solos, Fills and Harmony 1\n",
            "processing file 33: Bullet For My Valentine - Waking The Demon_Solos, Fills and Harmony 2\n",
            "processing file 34: Bullet For My Valentine - Waking The Demon_Solos, Fills and Harmony 3\n",
            "processing file 35: Chuck Berry - Johnny B Goode (ver 6)_Lead guitar\n",
            "processing file 36: Chuck Berry - Johnny B Goode (ver 6)_Rhythm guitar\n",
            "processing file 37: Chuck Berry - Johnny B Goode (ver 6)_Vocal\n",
            "processing file 38: Deep Purple - Smoke On The Water_Guitar Solo (Overdub)\n",
            "processing file 39: Deep Purple - Smoke On The Water_Guitar Solo\n",
            "processing file 40: Deep Purple - Smoke On The Water_Rhythm guitar\n",
            "processing file 41: Dire Straits - Sultans Of Swing_lead guitar\n",
            "processing file 42: Dire Straits - Sultans Of Swing_rhythm guitar\n",
            "processing file 43: DragonForce - Through The Fire And Flames_Acoustic Guitar\n",
            "processing file 44: DragonForce - Through The Fire And Flames_Acoustic+Keyboard\n",
            "processing file 45: DragonForce - Through The Fire And Flames_Guitar 1 \n",
            "processing file 46: DragonForce - Through The Fire And Flames_Guitar 2\n",
            "processing file 47: DragonForce - Through The Fire And Flames_Lead 1\n",
            "processing file 48: DragonForce - Through The Fire And Flames_Lead 2\n",
            "processing file 49: Eagles - Hotel California_12 Strings Capo 2nd\n",
            "processing file 50: Eagles - Hotel California_Guitar 1\n",
            "processing file 51: Eagles - Hotel California_Guitar 2\n",
            "processing file 52: Eric Clapton - Layla (ver 2)_Guitar 1\n",
            "processing file 53: Eric Clapton - Layla (ver 2)_Guitar 2\n",
            "processing file 54: Eric Clapton - Layla (ver 2)_Guitar 3\n",
            "processing file 55: Eric Clapton - Layla (ver 2)_Guitar 4\n",
            "processing file 56: Eric Clapton - Layla (ver 2)_Guitar 5\n",
            "processing file 57: Eric Clapton - Layla (ver 2)_Slide guitar\n",
            "processing file 58: Eric Clapton - Tears In Heaven_Guitare 1\n",
            "processing file 59: Eric Clapton - Tears In Heaven_Guitare 2\n",
            "processing file 60: Eric Johnson - Cliffs Of Dover (ver 2 by lem_ian)_Eric Johnson\n",
            "processing file 61: Extreme - More Than Words (ver 3)_Trilha 1\n",
            "processing file 62: Foo Fighters - Everlong_Clean\n",
            "processing file 63: Foo Fighters - Everlong_Lead\n",
            "processing file 64: Foo Fighters - Everlong_Rhythm\n",
            "processing file 65: Foo Fighters - The Pretender_Chris Shifflet - Lead Guitar\n",
            "processing file 66: Foo Fighters - The Pretender_Dave Grohl - Rhythm Guitar\n",
            "processing file 67: Foo Fighters - The Pretender_Third Guitar\n",
            "processing file 68: Gary Moore - Still Got The Blues_Clean Guitar\n",
            "processing file 69: Gary Moore - Still Got The Blues_Dist. Guitar Solo\n",
            "processing file 70: Green Day - 21 Guns (ver 4 by tangoso)_Pista 1\n",
            "processing file 71: Green Day - 21 Guns (ver 4 by tangoso)_Pista 2\n",
            "processing file 72: Green Day - 21 Guns (ver 4 by tangoso)_Pista 5\n",
            "processing file 73: Green Day - 21 Guns (ver 4 by tangoso)_Pista 9\n",
            "processing file 74: Green Day - American Idiot (ver 2)_Billy Joe 2nd Guitar\n",
            "processing file 75: Green Day - American Idiot (ver 2)_Billy Joe Clean\n",
            "processing file 76: Green Day - American Idiot (ver 2)_Billy Joe Distortion 2\n",
            "processing file 77: Green Day - American Idiot (ver 2)_Billy Joe Distortion\n",
            "processing file 78: Green Day - Wake Me Up When September Ends (ver 3)_Billie Joe Armstrong\n",
            "processing file 79: Guns N' Roses - Knockin On Heavens Door (ver 8)_Guitar 1 (Slash)\n",
            "processing file 80: Guns N' Roses - Knockin On Heavens Door (ver 8)_Guitar 2 (Slash)\n",
            "processing file 81: Guns N' Roses - Knockin On Heavens Door (ver 8)_Guitar 3 (Izzy)\n",
            "processing file 82: Guns N' Roses - November Rain (ver 2)_Guitar 1 (Slash)\n",
            "processing file 83: Guns N' Roses - November Rain (ver 2)_Guitar 2 (Izzy)\n",
            "processing file 84: Guns N' Roses - November Rain (ver 2)_Guitar 3 (Slash)\n",
            "processing file 85: Guns N' Roses - November Rain (ver 2)_Guitar 4 (Izzy)\n",
            "processing file 86: Guns N' Roses - Sweet Child O Mine (ver 2)_Guitar 1 (Slash)\n",
            "processing file 87: Guns N' Roses - Sweet Child O Mine (ver 2)_Guitar 2 (Izzy)\n",
            "processing file 88: Guns N' Roses - Sweet Child O Mine (ver 2)_Guitar 3 (Slash)\n",
            "processing file 89: Guns N' Roses - Welcome To The Jungle (ver 3)_Clean Guitar \n",
            "processing file 90: Guns N' Roses - Welcome To The Jungle (ver 3)_Delayed Intro\n",
            "processing file 91: Guns N' Roses - Welcome To The Jungle (ver 3)_Rythm Guitar 1\n",
            "processing file 92: Guns N' Roses - Welcome To The Jungle (ver 3)_Rythm Guitar 2\n",
            "processing file 93: Guns N' Roses - Welcome To The Jungle (ver 3)_Solo Guitar\n",
            "processing file 94: Iron Maiden - Fear Of The Dark_Dave Murray\n",
            "processing file 95: Iron Maiden - Fear Of The Dark_Janick Gers\n",
            "processing file 96: Iron Maiden - The Trooper (ver 5)_Guitar 1\n",
            "processing file 97: Iron Maiden - The Trooper (ver 5)_Guitar 2 Harm.\n",
            "processing file 98: Iron Maiden - The Trooper (ver 5)_Guitar 2\n",
            "processing file 99: Iron Maiden - The Trooper_Guitar 1\n",
            "processing file 100: Iron Maiden - The Trooper_Guitar 2 Harm.\n",
            "processing file 101: Iron Maiden - The Trooper_Guitar 2\n",
            "processing file 102: Jason Mraz - Im Yours (ver 3 by Maitinin)_Classical Guitar\n",
            "processing file 103: Jason Mraz - Im Yours (ver 3 by Maitinin)_Electric Guitar\n",
            "processing file 104: JerryC - Canon Rock_­µ­y 1\n",
            "processing file 105: Jet - Are You Gonna Be My Girl_Extra Lead\n",
            "processing file 106: Jet - Are You Gonna Be My Girl_Guitar 1\n",
            "processing file 107: Jet - Are You Gonna Be My Girl_Guitar 2\n",
            "processing file 108: Jimi Hendrix - All Along The Watchtower (ver 2)_Guitar I\n",
            "processing file 109: Jimi Hendrix - All Along The Watchtower (ver 2)_Guitar II\n",
            "processing file 110: Jimi Hendrix - Hey Joe (ver 2)_Guitar 2\n",
            "processing file 111: Jimi Hendrix - Little Wing_Jimi Hendrix\n",
            "processing file 112: Kansas - Dust In The Wind_Guitare accoustique\n",
            "processing file 113: Kansas - Dust In The Wind_Guitare douze cordes\n",
            "processing file 114: Lamb of God - Laid To Rest_Mark Morton Overdubb\n",
            "processing file 115: Lamb of God - Laid To Rest_Mark Morton\n",
            "processing file 116: Lamb of God - Laid To Rest_Will Adler\n",
            "processing file 117: Led Zeppelin - Black Dog_Guitar 1\n",
            "processing file 118: Led Zeppelin - Black Dog_Guitar 2 Solo\n",
            "processing file 119: Led Zeppelin - Black Dog_OverDup\n",
            "processing file 120: Led Zeppelin - Stairway To Heaven_Guitare 1\n",
            "processing file 121: Led Zeppelin - Stairway To Heaven_Guitare 2 (12 cordes)\n",
            "processing file 122: Led Zeppelin - Stairway To Heaven_Guitare électrique\n",
            "processing file 123: Led Zeppelin - Stairway To Heaven_Guitare slide\n",
            "processing file 124: Led Zeppelin - Stairway To Heaven_Guitare solo\n",
            "processing file 125: Lynyrd Skynyrd - Free Bird_Allen Collins (Clean Solo Guitar)\n",
            "processing file 126: Lynyrd Skynyrd - Free Bird_Ed (Acoustic Overdub)\n",
            "processing file 127: Lynyrd Skynyrd - Free Bird_Ed King (Clean Solo Guitar)\n",
            "processing file 128: Lynyrd Skynyrd - Free Bird_Gary Rossington (Slide Rythm Guitar)\n",
            "processing file 129: Lynyrd Skynyrd - Sweet Home Alabama_Guitare 1\n",
            "processing file 130: Lynyrd Skynyrd - Sweet Home Alabama_Guitare 2\n",
            "processing file 131: Lynyrd Skynyrd - Sweet Home Alabama_Guitare 3\n",
            "processing file 132: Marilyn Manson - Sweet Dreams Are Made Of This (ver 2)_Daisy Berkowitz (Guitar 1)\n",
            "processing file 133: Marilyn Manson - Sweet Dreams Are Made Of This (ver 2)_Daisy Berkowitz (Solo Guitar)\n",
            "processing file 134: Megadeth - Symphony Of Destruction (ver 6 by Hanger_Dave Mustaine\n",
            "processing file 135: Megadeth - Symphony Of Destruction (ver 6 by Hanger_Marty Friedman\n",
            "processing file 136: Metallica - Battery (ver 2)_Gtr. 1\n",
            "processing file 137: Metallica - Battery (ver 2)_Gtr. 2\n",
            "processing file 138: Metallica - Battery (ver 2)_Gtr. 3\n",
            "processing file 139: Metallica - Battery (ver 2)_Voice\n",
            "processing file 140: Metallica - Creeping Death_Distortion guitar 3\n",
            "processing file 141: Metallica - Creeping Death_Distortion guitar 4\n",
            "processing file 142: Metallica - Creeping Death_James Hetfield (Guitar)\n",
            "processing file 143: Metallica - Creeping Death_Kirk Hammet (Guitar)\n",
            "processing file 144: Metallica - Creeping Death_Lead Guitar (Kirk)\n",
            "processing file 145: Metallica - Enter Sandman (ver 5)_James-dist\n",
            "processing file 146: Metallica - Enter Sandman (ver 5)_James\n",
            "processing file 147: Metallica - Enter Sandman (ver 5)_Kirk\n",
            "processing file 148: Metallica - Enter Sandman_James Acoustic 1\n",
            "processing file 149: Metallica - Enter Sandman_James Acoustic 2\n",
            "processing file 150: Metallica - Enter Sandman_James Rythm 1\n",
            "processing file 151: Metallica - Enter Sandman_James Rythm 2\n",
            "processing file 152: Metallica - Enter Sandman_James Studio\n",
            "processing file 153: Metallica - Enter Sandman_Kirk Lead 1\n",
            "processing file 154: Metallica - Enter Sandman_Kirk Lead 2\n",
            "processing file 155: Metallica - Fade To Black (ver 4)_Guitare 1 \n",
            "processing file 156: Metallica - Fade To Black (ver 4)_Guitare 12 cordes\n",
            "processing file 157: Metallica - Fade To Black (ver 4)_Guitare 2 \n",
            "processing file 158: Metallica - Fade To Black (ver 4)_Guitare 3 \n",
            "processing file 159: Metallica - Fade To Black (ver 4)_Guitare 4\n",
            "processing file 160: Metallica - Fade To Black (ver 4)_Guitare 5 \n",
            "processing file 161: Metallica - Fade To Black (ver 4)_Guitare 6 \n",
            "processing file 162: Metallica - For Whom The Bell Tolls_James Hetfield\n",
            "processing file 163: Metallica - For Whom The Bell Tolls_Kirk Hammett\n",
            "processing file 164: Metallica - Master Of Puppets (ver 4 by DUDERMAN)_Clean Guitar\n",
            "processing file 165: Metallica - Master Of Puppets (ver 4 by DUDERMAN)_James Hetfield\n",
            "processing file 166: Metallica - Master Of Puppets (ver 4 by DUDERMAN)_Kirk Hammett\n",
            "processing file 167: Metallica - Master Of Puppets (ver 4 by DUDERMAN)_Solo\n",
            "processing file 168: Metallica - Master Of Puppets_James Hetfield (clean guitar)\n",
            "processing file 169: Metallica - Master Of Puppets_James Hetfield (rhytmic guitar - vocals)\n",
            "processing file 170: Metallica - Master Of Puppets_Kirk Hammett (lead guitar)\n",
            "processing file 171: Metallica - Nothing Else Matters (ver 5)_Guitar 1\n",
            "processing file 172: Metallica - Nothing Else Matters (ver 5)_Guitar 2\n",
            "processing file 173: Metallica - Nothing Else Matters (ver 5)_Guitar 3\n",
            "processing file 174: Metallica - Nothing Else Matters (ver 5)_Guitar 4\n",
            "processing file 175: Metallica - Nothing Else Matters (ver 5)_Guitar 5\n",
            "processing file 176: Metallica - Nothing Else Matters (ver 6)_Easy Guitar (not in real song)\n",
            "processing file 177: Metallica - Nothing Else Matters (ver 6)_James Hetfield\n",
            "processing file 178: Metallica - Nothing Else Matters (ver 6)_Kirk Hammet\n",
            "processing file 179: Metallica - Nothing Else Matters (ver 7)_Guitar 1\n",
            "processing file 180: Metallica - One (ver 2)_Aux Solo Gtr1\n",
            "processing file 181: Metallica - One (ver 2)_Aux Solo Gtr2\n",
            "processing file 182: Metallica - One (ver 2)_James (TREBBLE)\n",
            "processing file 183: Metallica - One (ver 2)_Kirk (BASS)\n",
            "processing file 184: Metallica - Orion (ver 5)_James (Rhythm Guitar)\n",
            "processing file 185: Metallica - Orion (ver 5)_Kirk (Lead Guitar)\n",
            "processing file 186: Metallica - Orion (ver 5)_Kirk (Rhythm Guitar)\n",
            "processing file 187: Metallica - Orion (ver 5)_Overdriven Guitar I\n",
            "processing file 188: Metallica - Orion (ver 5)_Overdriven Guitar II\n",
            "processing file 189: Metallica - Orion (ver 5)_Overdriven Guitar III\n",
            "processing file 190: Metallica - Seek And Destroy (ver 2)_Gtr. I\n",
            "processing file 191: Metallica - Seek And Destroy (ver 2)_Gtr. II\n",
            "processing file 192: Metallica - Seek And Destroy (ver 2)_Gtr. III\n",
            "processing file 193: Metallica - The Day That Never Comes_Clean\n",
            "processing file 194: Metallica - The Day That Never Comes_Harmony\n",
            "processing file 195: Metallica - The Day That Never Comes_James\n",
            "processing file 196: Metallica - The Day That Never Comes_Kirk\n",
            "processing file 197: Metallica - Welcome Home Sanitarium_Harmony Leads\n",
            "processing file 198: Metallica - Welcome Home Sanitarium_Lead\n",
            "processing file 199: Metallica - Welcome Home Sanitarium_Rhythm\n",
            "processing file 200: Metallica - Welcome Home Sanitarium_Rythm 2\n",
            "processing file 201: Michael Jackson - Beat It_Guitar I\n",
            "processing file 202: Michael Jackson - Beat It_Guitar II\n",
            "processing file 203: Michael Jackson - Beat It_Rythm Guitar\n",
            "processing file 204: Michael Jackson - Beat It_Van Halen - Lead\n",
            "processing file 205: Misc Computer Games - Super Mario Brothers Theme (ver 2 by nay-palm)_Backing\n",
            "processing file 206: Misc Computer Games - Super Mario Brothers Theme (ver 2 by nay-palm)_Track 1\n",
            "processing file 207: Misc Soundtrack - Pirates Of The Caribbean - Hes A Pirate (ver 5 by jariss)_Track 1\n",
            "processing file 208: Misc Soundtrack - Pirates Of The Caribbean - Hes A Pirate (ver 9 by ccb51310)_Track 1\n",
            "processing file 209: Misc Soundtrack - Pirates Of The Caribbean - Hes A Pirate (ver 9 by ccb51310)_Track 2\n",
            "processing file 210: Motörhead - Ace Of Spades_\"Fast\" Eddie Clarke (Guitar)\n",
            "processing file 211: Motörhead - Ace Of Spades_Unknown guy (guitar)\n",
            "processing file 212: Muse - Hysteria_Matt - Distortion\n",
            "processing file 213: Muse - Hysteria_Matt - Fills\n",
            "processing file 214: Muse - Hysteria_Matt - Solo Guitar\n",
            "processing file 215: Muse - Knights Of Cydonia_Guitar\n",
            "processing file 216: Nirvana - Come As You Are_Clean Guitar\n",
            "processing file 217: Nirvana - Come As You Are_Distortion Guitar\n",
            "processing file 218: Nirvana - Smells Like Teen Spirit (ver 2)_Kurt - Lead Guitar\n",
            "processing file 219: Nirvana - Smells Like Teen Spirit (ver 2)_Kurt - Solo\n",
            "processing file 220: Oasis - Wonderwall_Acoustic Lead Guitar\n",
            "processing file 221: Oasis - Wonderwall_Acoustic Rhythm Guitar\n",
            "processing file 222: Oasis - Wonderwall_Electric Lead Guitar\n",
            "processing file 223: Ozzy Osbourne - Crazy Train_Fill Guitar\n",
            "processing file 224: Ozzy Osbourne - Crazy Train_Lead Guitar\n",
            "processing file 225: Pantera - Cemetery Gates (ver 4)_Acoustic 1\n",
            "processing file 226: Pantera - Cemetery Gates (ver 4)_Acoustic Fills\n",
            "processing file 227: Pantera - Cemetery Gates (ver 4)_Dis. Rhy.\n",
            "processing file 228: Pantera - Cemetery Gates (ver 4)_Fills 2\n",
            "processing file 229: Pantera - Cemetery Gates (ver 4)_Guitar Fills\n",
            "processing file 230: Pantera - Cemetery Gates (ver 4)_Leads\n",
            "processing file 231: Pantera - Cowboys From Hell (ver 2)_Dimebag\n",
            "processing file 232: Pantera - Cowboys From Hell (ver 2)_Solo Fills\n",
            "processing file 233: Pink Floyd - Another Brick In The Wall Part 2_Lead Guitar ( David Gilmour )\n",
            "processing file 234: Pink Floyd - Another Brick In The Wall Part 2_Rhythm Guitar 1 ( David Gilmour )\n",
            "processing file 235: Pink Floyd - Another Brick In The Wall Part 2_Rhythm Guitar 2 ( David Gilmour )\n",
            "processing file 236: Pink Floyd - Another Brick In The Wall Part 2_Solo Guitar ( David Gilmour )\n",
            "processing file 237: Pink Floyd - Comfortably Numb_Fuzz Rhythm\n",
            "processing file 238: Pink Floyd - Comfortably Numb_High-Strung Acoustic\n",
            "processing file 239: Pink Floyd - Comfortably Numb_Solo Fills\n",
            "processing file 240: Pink Floyd - Wish You Were Here (ver 5)_Guitar 1\n",
            "processing file 241: Pink Floyd - Wish You Were Here (ver 5)_Guitar 2\n",
            "processing file 242: Pink Floyd - Wish You Were Here (ver 5)_Guitar 3\n",
            "processing file 243: Pink Floyd - Wish You Were Here (ver 5)_Guitar 4\n",
            "processing file 244: Pink Floyd - Wish You Were Here_12 - String Acoustic in the Distance\n",
            "processing file 245: Pink Floyd - Wish You Were Here_6 - String Acoustic\n",
            "processing file 246: Pink Floyd - Wish You Were Here_Slide Guitar in Open G\n",
            "processing file 247: Queen - Bohemian Rhapsody_Gtr 1\n",
            "processing file 248: Queen - Bohemian Rhapsody_Gtr 2\n",
            "processing file 249: Queen - Bohemian Rhapsody_Gtr 3\n",
            "processing file 250: Queen - Bohemian Rhapsody_Gtr 4\n",
            "processing file 251: Queen - Bohemian Rhapsody_Gtr 5\n",
            "processing file 252: Red Hot Chili Peppers - Californication (ver 3)_Gtr 1\n",
            "processing file 253: Red Hot Chili Peppers - Californication (ver 3)_Gtr 2\n",
            "processing file 254: Red Hot Chili Peppers - Cant Stop (ver 5)_Anthony (bkgd. gtr.)?\n",
            "processing file 255: Red Hot Chili Peppers - Cant Stop (ver 5)_John F.\n",
            "processing file 256: Red Hot Chili Peppers - Scar Tissue_Guitare Solo\n",
            "processing file 257: Red Hot Chili Peppers - Scar Tissue_Guitare\n",
            "processing file 258: Red Hot Chili Peppers - Snow Hey Oh_Pista 1\n",
            "processing file 259: Red Hot Chili Peppers - Snow Hey Oh_Pista 4\n",
            "processing file 260: Red Hot Chili Peppers - Snow Hey Oh_Pista 5\n",
            "processing file 261: Red Hot Chili Peppers - Under The Bridge (ver 6 by dorissie)_John Frusciante\n",
            "processing file 262: Red Hot Chili Peppers - Under The Bridge_John Frusciante\n",
            "processing file 263: Santana - Europa_Solo Guitar\n",
            "processing file 264: Scorpions - Rock You Like A Hurricane (ver 2)_Guitar 1\n",
            "processing file 265: Scorpions - Rock You Like A Hurricane (ver 2)_Guitar 2\n",
            "processing file 266: Scorpions - Rock You Like A Hurricane (ver 2)_Guitar 3\n",
            "processing file 267: Scorpions - Still Loving You (ver 3)_Clean Guitar\n",
            "processing file 268: Scorpions - Still Loving You (ver 3)_Guitar Lead Solos\n",
            "processing file 269: Scorpions - Still Loving You (ver 3)_Rhythm\n",
            "processing file 270: Scorpions - Still Loving You (ver 3)_Voice\n",
            "processing file 271: Slayer - Raining Blood (ver 3)_Gtr. I\n",
            "processing file 272: Slayer - Raining Blood (ver 3)_Gtr. II\n",
            "processing file 273: System Of A Down - Chop Suey (ver 6 by Benzie101)_Guitar 1\n",
            "processing file 274: System Of A Down - Chop Suey (ver 6 by Benzie101)_Guitar 2\n",
            "processing file 275: System Of A Down - Chop Suey (ver 6 by Benzie101)_Guitar 3\n",
            "processing file 276: System Of A Down - Chop Suey (ver 6 by Benzie101)_Guitar 4\n",
            "processing file 277: System Of A Down - Toxicity_Chitarra 1\n",
            "processing file 278: System Of A Down - Toxicity_Chitarra 2\n",
            "processing file 279: System Of A Down - Toxicity_Chitarra Distorta\n",
            "processing file 280: System Of A Down - Toxicity_Voce\n",
            "processing file 281: The Beatles - Yesterday_Original guitar track\n",
            "processing file 282: The Beatles - Yesterday_Paul McCartney\n",
            "processing file 283: The Strokes - Reptilia_Albert Hammond Jr\n",
            "processing file 284: The Strokes - Reptilia_Nick Valensi\n",
            "processing file 285: The White Stripes - Seven Nation Army_Guitar 1 (Jack White) Open A Tuning\n",
            "processing file 286: The White Stripes - Seven Nation Army_Solo Guitar ( Jack White)Standard Tuning\n",
            "processing file 287: Thin Lizzy - Got To Give It Up_Gary Moore\n",
            "processing file 288: Thin Lizzy - Got To Give It Up_Scott Gorham\n"
          ]
        }
      ],
      "source": [
        "CLEAN_SINGLE_TRACK_DIR = (\n",
        "    \"/Volumes/MacOnly/UG_proc/all_time_top_by_hits/clean_single_track_gtps\"\n",
        ")\n",
        "SINGLE_TRACK_AUDIO_DIR = (\n",
        "    \"/Volumes/MacOnly/UG_proc/all_time_top_by_hits/clean_single_track_audio\"\n",
        ")\n",
        "POLY_SEGMENTS_DIR = \"/Volumes/MacOnly/UG_proc/all_time_top_by_hits/poly_audio_segments\"\n",
        "MONO_SEGMENTS_DIR = \"/Volumes/MacOnly/UG_proc/all_time_top_by_hits/mono_audio_segments\"\n",
        "\n",
        "i = 0\n",
        "for file in glob.glob(os.path.join(CLEAN_SINGLE_TRACK_DIR, \"*.gp5\")):\n",
        "    i += 1\n",
        "    track_title, _ = os.path.splitext(file.split(\"/\")[-1])\n",
        "    print(f\"processing file {i}: {track_title}\")\n",
        "\n",
        "    song = guitarpro.parse(file)\n",
        "    poly, mono = poly_vs_mono(song)\n",
        "\n",
        "    y, sr = librosa.load(\n",
        "        os.path.join(SINGLE_TRACK_AUDIO_DIR, track_title + \".wav\"), sr=None, mono=True\n",
        "    )\n",
        "\n",
        "    for j, poly_segment in enumerate(poly):\n",
        "        start_sec = poly_segment[0]\n",
        "        end_sec = poly_segment[1]\n",
        "        segment = y[int(start_sec * sr) : int(end_sec * sr)]\n",
        "        # write segment to file, store it in the \"poly\" folder\n",
        "        segment_file_name = \"{}_{}_{}s.wav\".format(\n",
        "            track_title, j, int(start_sec)\n",
        "        )\n",
        "        soundfile.write(os.path.join(POLY_SEGMENTS_DIR, segment_file_name), segment, sr)\n",
        "\n",
        "    for j, mono_segment in enumerate(mono):\n",
        "        start_sec = mono_segment[0]\n",
        "        end_sec = mono_segment[1]\n",
        "        segment = y[int(start_sec * sr) : int(end_sec * sr)]\n",
        "        # write segment to file, store it in the \"mono\" folder\n",
        "        segment_file_name = \"{}_{}_{}s.wav\".format(track_title, j, int(start_sec))\n",
        "        soundfile.write(os.path.join(MONO_SEGMENTS_DIR, segment_file_name), segment, sr)\n",
        "\n"
      ]
    },
    {
      "cell_type": "markdown",
      "metadata": {},
      "source": [
        "## Generate frames and labels from the poly and mono segments"
      ]
    },
    {
      "cell_type": "code",
      "execution_count": null,
      "metadata": {},
      "outputs": [],
      "source": [
        "# get a bunch of frames, compute mel-spectra, and put them into a npz file\n",
        "# put corresponding labels in the last row\n",
        "# shuffle them\n",
        "# train/test split\n",
        "# sklearn classifier\n"
      ]
    },
    {
      "cell_type": "code",
      "execution_count": 35,
      "metadata": {},
      "outputs": [
        {
          "name": "stdout",
          "output_type": "stream",
          "text": [
            "deleted 0 empty frames\n",
            "(128, 6)\n",
            "0.0\n",
            "0.0\n",
            "0.0\n",
            "0.0\n",
            "0.0\n",
            "0.0\n"
          ]
        }
      ],
      "source": [
        "# frame-level features: mel-spectrum (compute via mel-spectrogram)\n",
        "FRAME_SIZE = 2048\n",
        "HOP_SIZE = 2048\n",
        "MONO_LABEL = 0\n",
        "\n",
        "file = \"/Volumes/MacOnly/UG_proc/all_time_top_by_hits/mono_audio_segments/ACDC - Back In Black (ver 4 by GuitarManiac09)_Angus Young_1_195s.wav\"\n",
        "y, sr = librosa.load(file, sr=None, mono=True)\n",
        "# y = np.concatenate((np.ones((2048,)), np.zeros((2048,))))\n",
        "mel_spec = librosa.feature.melspectrogram(y, sr, n_fft=FRAME_SIZE, hop_length=HOP_SIZE, center=False)\n",
        "\n",
        "no_frames = mel_spec.shape[1]\n",
        "columns_to_delete = []\n",
        "\n",
        "for i in range(no_frames):\n",
        "    if np.all(mel_spec[:, i] == 0):\n",
        "        columns_to_delete.append(i)\n",
        "mel_spec = np.delete(mel_spec, columns_to_delete, axis=1)\n",
        "print(f\"deleted {len(columns_to_delete)} empty frames\")\n",
        "print(mel_spec.shape)\n",
        "\n",
        "# zero for mono\n",
        "label = np.zeros((1, mel_spec.shape[1]))\n",
        "features_with_label = np.append(mel_spec, label, axis=0)\n",
        "\n",
        "for i in range(features_with_label.shape[1]):\n",
        "    feature = features_with_label[:, i]\n",
        "    print(feature[-1])\n"
      ]
    },
    {
      "cell_type": "code",
      "execution_count": 44,
      "metadata": {},
      "outputs": [
        {
          "name": "stdout",
          "output_type": "stream",
          "text": [
            "processing file 1: DragonForce - Through The Fire And Flames_Acoustic Guitar_43_0s\n",
            "deleted 8903 empty frames\n",
            "processing file 2: Metallica - Seek And Destroy (ver 2)_Gtr. III_192_0s\n",
            "deleted 8604 empty frames\n",
            "processing file 3: Metallica - The Day That Never Comes_Harmony_194_0s\n",
            "deleted 10625 empty frames\n",
            "processing file 4: Queen - Bohemian Rhapsody_Gtr 1_247_0s\n",
            "deleted 9705 empty frames\n"
          ]
        },
        {
          "data": {
            "text/plain": [
              "(129, 2881)"
            ]
          },
          "execution_count": 44,
          "metadata": {},
          "output_type": "execute_result"
        }
      ],
      "source": [
        "# frame-level features: mel-spectrum (compute via mel-spectrogram)\n",
        "FRAME_SIZE = 2048\n",
        "HOP_SIZE = 2048\n",
        "MONO_LABEL = 0\n",
        "\n",
        "# POLY_SEGMENTS_DIR = \"/Volumes/MacOnly/UG_proc/all_time_top_by_hits/poly_audio_segments\"\n",
        "MONO_SEGMENTS_DIR = \"/Volumes/MacOnly/UG_proc/all_time_top_by_hits/mono_audio_segments\"\n",
        "MONO_SEGMENTS_DIR = \"/Volumes/MacOnly/UG_proc/all_time_top_by_hits/test\"\n",
        "\n",
        "i = 0\n",
        "features_with_label = []\n",
        "\n",
        "for file in glob.glob(os.path.join(MONO_SEGMENTS_DIR, \"*.wav\")):\n",
        "    i += 1\n",
        "    title, _ = os.path.splitext(file.split(\"/\")[-1])\n",
        "    print(f\"processing file {i}: {title}\")\n",
        "\n",
        "    y, sr = librosa.load(file, sr=None, mono=True)\n",
        "    mel_spec = librosa.feature.melspectrogram(y, sr, n_fft=FRAME_SIZE, hop_length=HOP_SIZE, center=False)\n",
        "\n",
        "    no_frames = mel_spec.shape[1]\n",
        "    columns_to_delete = []\n",
        "    \n",
        "    for j in range(no_frames):\n",
        "        if np.all(mel_spec[:, j] == 0):\n",
        "            columns_to_delete.append(j)\n",
        "    mel_spec = np.delete(mel_spec, columns_to_delete, axis=1)\n",
        "    print(f\"deleted {len(columns_to_delete)} empty frames\")\n",
        "    # zero for mono\n",
        "    label = np.zeros((1, mel_spec.shape[1]))\n",
        "    feature_with_label = np.append(mel_spec, label, axis=0)\n",
        "    features_with_label.append(feature_with_label)\n",
        "\n",
        "mono_data = np.concatenate(features_with_label, axis=1)\n",
        "mono_data.shape"
      ]
    },
    {
      "cell_type": "code",
      "execution_count": 43,
      "metadata": {},
      "outputs": [],
      "source": [
        "np.savez_compressed(\"/Volumes/MacOnly/UG_proc/all_time_top_by_hits/test.npz\", mono_data)\n",
        "# problem: normalization eliminates zero segments by substracting the mean\n",
        "# maybe do frame level normalization? normalize only if it's not entirely zeros\n",
        "# overlapping is probably not necessary?\n",
        "# larger frame size? \n",
        "# run the whole thing on colab, may consume a lot of memory"
      ]
    },
    {
      "cell_type": "code",
      "execution_count": 47,
      "metadata": {},
      "outputs": [
        {
          "data": {
            "text/plain": [
              "LinearSVC()"
            ]
          },
          "execution_count": 47,
          "metadata": {},
          "output_type": "execute_result"
        }
      ],
      "source": [
        "from sklearn.svm import LinearSVC\n",
        "model = LinearSVC()\n",
        "features = features_with_label[:, :-1]\n",
        "labels = features_with_label[:, -1]\n",
        "\n",
        "labels[3] = 1\n",
        "model.fit(X=features, y=labels)"
      ]
    },
    {
      "cell_type": "markdown",
      "metadata": {
        "id": "bnEFGkWafWoA"
      },
      "source": [
        "## Break the single-track gtp files into 4-bar phrases (necessary??)"
      ]
    },
    {
      "cell_type": "code",
      "execution_count": null,
      "metadata": {
        "id": "xOMt22c3ywoT"
      },
      "outputs": [],
      "source": [
        "SINGLE_TRACK_DIR = \"/Volumes/MacOnly/UG_proc/all_time_top_by_hits/single_track_gtps\"\n",
        "PHRASE_DIR = \"/Volumes/MacOnly/UG_proc/all_time_top_by_hits/phrase_gtps\"\n",
        "for file in glob.glob(os.path.join(SINGLE_TRACK_DIR, \"*.gp*\")):\n",
        "    print(f\"processing {file.split('/')[-1]}\")\n",
        "    get_phrases(file, PHRASE_DIR)\n",
        "\n"
      ]
    },
    {
      "cell_type": "code",
      "execution_count": 12,
      "metadata": {},
      "outputs": [],
      "source": [
        "PHRASE_DIR = \"/Volumes/MacOnly/UG_proc/all_time_top_by_hits/phrase_gtps\"\n",
        "file_name = \"ACDC - Highway To Hell (ver 3)_Guitar 2_6.gp5\"\n",
        "song = guitarpro.parse(os.path.join(PHRASE_DIR, file_name))\n",
        "poly, mono = poly_vs_mono(song)\n"
      ]
    },
    {
      "cell_type": "markdown",
      "metadata": {},
      "source": [
        "BELOW IS SUBJECT TO CHANGE"
      ]
    },
    {
      "cell_type": "code",
      "execution_count": null,
      "metadata": {
        "id": "c9R722GY1ta8"
      },
      "outputs": [],
      "source": [
        "JSON_DIR = \"/content/drive/MyDrive/UG/proc_phrases_anno\"\n",
        "for file in glob.glob(os.path.join(PHRASE_DIR, \"*.gp*\")):\n",
        "    print(f\"processing {file.split('/')[-1]}\")\n",
        "    # get_anno(file, JSON_DIR)\n",
        "\n"
      ]
    },
    {
      "cell_type": "code",
      "execution_count": null,
      "metadata": {
        "id": "LmOhJL2enLvE"
      },
      "outputs": [],
      "source": [
        "# \"Led Zeppelin - Stairway To Heaven_4_34\" seems to be empty because of tied notes from the previous phrase\n"
      ]
    },
    {
      "cell_type": "code",
      "execution_count": 29,
      "metadata": {
        "colab": {
          "base_uri": "https://localhost:8080/"
        },
        "id": "drX8parZtbMU",
        "outputId": "a7b2a1aa-c094-4f1b-a5f9-028b992a2837"
      },
      "outputs": [
        {
          "data": {
            "text/plain": [
              "MixTableItem(value=200, duration=0, allTracks=False)"
            ]
          },
          "execution_count": 29,
          "metadata": {},
          "output_type": "execute_result"
        }
      ],
      "source": [
        "file = \"/content/drive/MyDrive/tempochange.gp5\"\n",
        "song = guitarpro.parse(file)\n",
        "song.tracks[0].measures[1].voices[0].beats[2].effect.mixTableChange.tempo\n"
      ]
    },
    {
      "cell_type": "code",
      "execution_count": 33,
      "metadata": {
        "colab": {
          "base_uri": "https://localhost:8080/"
        },
        "id": "eg1bmSFi0X6Q",
        "outputId": "894f9929-7bb0-4823-8f33-90382e5e846c"
      },
      "outputs": [
        {
          "data": {
            "text/plain": [
              "4800"
            ]
          },
          "execution_count": 33,
          "metadata": {},
          "output_type": "execute_result"
        }
      ],
      "source": [
        "song.tracks[0].measures[1].voices[0].beats[0].start\n"
      ]
    },
    {
      "cell_type": "code",
      "execution_count": 41,
      "metadata": {
        "colab": {
          "base_uri": "https://localhost:8080/"
        },
        "id": "2PHfq34s6d6P",
        "outputId": "4083c23f-4818-4abb-e9b0-960e9394d4dd"
      },
      "outputs": [
        {
          "data": {
            "text/plain": [
              "960"
            ]
          },
          "execution_count": 41,
          "metadata": {},
          "output_type": "execute_result"
        }
      ],
      "source": [
        "song.tracks[0].measures[1].voices[0].beats[1].duration.time\n"
      ]
    },
    {
      "cell_type": "code",
      "execution_count": 53,
      "metadata": {
        "colab": {
          "base_uri": "https://localhost:8080/"
        },
        "id": "tXRzw6le6nRk",
        "outputId": "7157ee44-6e3f-4f7b-e8da-6609f0a0ea2b"
      },
      "outputs": [
        {
          "data": {
            "text/plain": [
              "[<guitarpro.models.Beat at 0x7faab7e9dcd0>,\n",
              " <guitarpro.models.Beat at 0x7faab4308590>,\n",
              " <guitarpro.models.Beat at 0x7faab3d43d90>,\n",
              " <guitarpro.models.Beat at 0x7faab3d6c410>]"
            ]
          },
          "execution_count": 53,
          "metadata": {},
          "output_type": "execute_result"
        }
      ],
      "source": [
        "song.tracks[0].measures[1].voices[0].beats\n"
      ]
    },
    {
      "cell_type": "code",
      "execution_count": 37,
      "metadata": {
        "colab": {
          "base_uri": "https://localhost:8080/"
        },
        "id": "cTMpa5oT6rPE",
        "outputId": "06fd6168-225e-4760-c720-88b9421513cd"
      },
      "outputs": [
        {
          "data": {
            "text/plain": [
              "7680"
            ]
          },
          "execution_count": 37,
          "metadata": {},
          "output_type": "execute_result"
        }
      ],
      "source": [
        "song.tracks[0].measures[1].voices[0].beats[3].start\n"
      ]
    },
    {
      "cell_type": "code",
      "execution_count": 58,
      "metadata": {
        "colab": {
          "base_uri": "https://localhost:8080/"
        },
        "id": "it5wXGdt_q5g",
        "outputId": "42d7a3f2-6013-48de-f105-7b2b79b2a122"
      },
      "outputs": [
        {
          "data": {
            "text/plain": [
              "1920"
            ]
          },
          "execution_count": 58,
          "metadata": {},
          "output_type": "execute_result"
        }
      ],
      "source": [
        "file = \"/content/drive/MyDrive/repeat.gp5\"\n",
        "song = guitarpro.parse(file)\n",
        "song.tracks[0].measures[0].voices[0].beats[-1].duration.time\n"
      ]
    }
  ],
  "metadata": {
    "colab": {
      "authorship_tag": "ABX9TyNsU84JTKsDYr0YlXCxOteV",
      "collapsed_sections": [
        "Da4NwbioglZk"
      ],
      "include_colab_link": true,
      "mount_file_id": "1QKchDRyQSEjKJ03k2Q7-aT4KSBYHtlYB",
      "name": "anno_gen.ipynb",
      "provenance": []
    },
    "kernelspec": {
      "display_name": "Python 3",
      "name": "python3"
    },
    "language_info": {
      "codemirror_mode": {
        "name": "ipython",
        "version": 3
      },
      "file_extension": ".py",
      "mimetype": "text/x-python",
      "name": "python",
      "nbconvert_exporter": "python",
      "pygments_lexer": "ipython3",
      "version": "3.7.11"
    }
  },
  "nbformat": 4,
  "nbformat_minor": 0
}
