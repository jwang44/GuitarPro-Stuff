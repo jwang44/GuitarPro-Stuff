{
  "nbformat": 4,
  "nbformat_minor": 0,
  "metadata": {
    "colab": {
      "name": "anno_gen.ipynb",
      "provenance": [],
      "collapsed_sections": [
        "Da4NwbioglZk"
      ],
      "mount_file_id": "1QKchDRyQSEjKJ03k2Q7-aT4KSBYHtlYB",
      "authorship_tag": "ABX9TyNsU84JTKsDYr0YlXCxOteV",
      "include_colab_link": true
    },
    "kernelspec": {
      "name": "python3",
      "display_name": "Python 3"
    },
    "language_info": {
      "name": "python"
    }
  },
  "cells": [
    {
      "cell_type": "markdown",
      "metadata": {
        "id": "view-in-github",
        "colab_type": "text"
      },
      "source": [
        "<a href=\"https://colab.research.google.com/github/jwang44/GuitarPro-Stuff/blob/main/anno_gen.ipynb\" target=\"_parent\"><img src=\"https://colab.research.google.com/assets/colab-badge.svg\" alt=\"Open In Colab\"/></a>"
      ]
    },
    {
      "cell_type": "code",
      "metadata": {
        "colab": {
          "base_uri": "https://localhost:8080/"
        },
        "id": "TKtZWu7sUElQ",
        "outputId": "b1a16088-d5a2-4371-aa6c-2b39cf07378b"
      },
      "source": [
        "!pip install pyguitarpro"
      ],
      "execution_count": 1,
      "outputs": [
        {
          "output_type": "stream",
          "name": "stdout",
          "text": [
            "Collecting pyguitarpro\n",
            "  Downloading PyGuitarPro-0.8-py2.py3-none-any.whl (45 kB)\n",
            "\u001b[?25l\r\u001b[K     |███████▎                        | 10 kB 22.9 MB/s eta 0:00:01\r\u001b[K     |██████████████▌                 | 20 kB 9.9 MB/s eta 0:00:01\r\u001b[K     |█████████████████████▉          | 30 kB 8.0 MB/s eta 0:00:01\r\u001b[K     |█████████████████████████████   | 40 kB 7.4 MB/s eta 0:00:01\r\u001b[K     |████████████████████████████████| 45 kB 1.4 MB/s \n",
            "\u001b[?25hRequirement already satisfied: attrs>=19.2 in /usr/local/lib/python3.7/dist-packages (from pyguitarpro) (21.2.0)\n",
            "Installing collected packages: pyguitarpro\n",
            "Successfully installed pyguitarpro-0.8\n"
          ]
        }
      ]
    },
    {
      "cell_type": "code",
      "metadata": {
        "id": "hbty8-qenfRV"
      },
      "source": [
        "import os\n",
        "import glob\n",
        "import guitarpro\n",
        "import json"
      ],
      "execution_count": 2,
      "outputs": []
    },
    {
      "cell_type": "code",
      "metadata": {
        "id": "B3AT2WDHUWfR"
      },
      "source": [
        "def get_metadata(song):\n",
        "  metadata = {\n",
        "      \"title\": song.title, \n",
        "      # \"artist\": song.artist, \n",
        "      # \"album\": song.album, \n",
        "      # \"tab\": song.tab, \n",
        "      # \"tempo_name\": song.tempoName,\n",
        "      \"tempo\": song.tempo,\n",
        "      # \"key\": song.key.name,\n",
        "      # \"track_count\": len(song.tracks)\n",
        "    }\n",
        "  return metadata\n",
        "  \n",
        "def get_guitar_tracks(song):\n",
        "  \"\"\"\n",
        "  24 Acoustic Guitar (nylon)\n",
        "  25 Acoustic Guitar (steel)\n",
        "  26 Electric Guitar (jazz)\n",
        "  27 Electric Guitar (clean)\n",
        "  28 Electric Guitar (muted)\n",
        "  29 Overdriven Guitar\n",
        "  30 Distortion Guitar\n",
        "  \"\"\"\n",
        "  GUITAR_MIDI_PROGRAMS = [24, 25, 26, 27, 28, 29, 30]\n",
        "  # get all non-percussive tracks (this is still necessary because some drum tracks use a guitar program number)\n",
        "  m_tracks = [track for track in song.tracks if not track.isPercussionTrack]\n",
        "  guitar_tracks = [track for track in m_tracks if track.channel.instrument in GUITAR_MIDI_PROGRAMS and len(track.strings)==6]\n",
        "  return guitar_tracks\n",
        "\n",
        "def get_track_info(track):\n",
        "  track_info = {\n",
        "      \"track_no\": track.number,\n",
        "      # \"string_count\": len(track.strings), # total no of strings\n",
        "      # \"fret_count\": track.fretCount, # total no of frets\n",
        "      # \"is_percussion\": track.isPercussionTrack,\n",
        "      # \"is_12_string\": track.is12StringedGuitarTrack,\n",
        "      \"name\": track.name,\n",
        "      # \"measure_count\": len(track.measures),\n",
        "      \"midi_channel_instrument\": track.channel.instrument, # 30 for distortion guitar\n",
        "      # \"midi_channel_effect\": track.channel.effectChannel, # ignore for now\n",
        "  }\n",
        "  return track_info\n",
        "\n",
        "def get_string_info(string):\n",
        "  string_info = {\n",
        "      \"string_number\": string.number,\n",
        "      \"string_value\": string.value # EADGBE=40, 45, 50, 55, 59, 64\n",
        "  }\n",
        "  return string_info\n",
        "\n",
        "def get_measure_info(measure):\n",
        "  voices = [voice for voice in measure.voices if not voice.isEmpty]\n",
        "  measure_info = {\n",
        "      \"voice_count\": len(voices),\n",
        "      \"is_empty\": measure.isEmpty,\n",
        "      \"measure_number\": measure.number,\n",
        "      # \"key_sig\": measure.keySignature,\n",
        "      # \"time_sig\": measure.timeSignature,\n",
        "      \"start\": measure.start,\n",
        "      \"end\": measure.end,\n",
        "      \"length\": measure.length\n",
        "  }\n",
        "  return measure_info\n",
        "\n",
        "def get_voice_info(voice):\n",
        "  voice_info = {\n",
        "      \"beat_count\": len(voice.beats),\n",
        "      \"is_empty\": voice.isEmpty # empty voice means the voice has 0 beats\n",
        "  }\n",
        "  return voice_info\n",
        "\n",
        "def get_beat_info(beat):\n",
        "  beat_info = {\n",
        "      \"note_count\": len(beat.notes),\n",
        "      \"duration_time\": beat.duration.time,\n",
        "      \"start\": beat.start,\n",
        "      \"vibrato\": beat.effect.vibrato, # bool\n",
        "      \"has_vibrato\": beat.hasVibrato, # true if any note in this beat has vibrato effect\n",
        "      \"has_harmonic\": beat.hasHarmonic, # true if any note in this beat has harmonic effect\n",
        "      \"offset\": beat.startInMeasure # beat.start - beat.voice.measure.start\n",
        "  }\n",
        "  return beat_info\n",
        "\n",
        "def get_measure_notes(measure):\n",
        "  notes = []\n",
        "  for voice in measure.voices:\n",
        "    if not voice.isEmpty:\n",
        "      for beat in voice.beats:\n",
        "        notes.extend(beat.notes)\n",
        "      return notes\n",
        "\n",
        "def get_note_info(note):\n",
        "  note_info = {\n",
        "      \"string\": note.string,\n",
        "      \"fret\": note.value, # fret number\n",
        "      # \"dur_percent\": note.durationPercent, \n",
        "      \"pitch\": note.realValue, # self.value + string.value = MIDI note number\n",
        "      \"type\": note.type.name, # NoteType class, rest=0, normal=1, tie=2, dead=3\n",
        "      \"effects\": get_effect_info(note.effect)\n",
        "  }\n",
        "  return note_info\n",
        "\n",
        "def get_effect_info(effect):\n",
        "  effect_info = {\n",
        "      \"ghost_note\": effect.ghostNote, # bool\n",
        "      \"hammer\": effect.hammer, # bool\n",
        "      \"mute\": effect.palmMute, # bool\n",
        "      \"vibrato\": effect.vibrato # bool\n",
        "  }\n",
        "\n",
        "  # if effect.isHarmonic:\n",
        "  #   effect_info[\"harmonic_type\"] = effect.harmonic.type.name # natural=1, artificial=2, tapped=3, pinch=4, semi=5\n",
        "  effect_info[\"harmonic\"] = True if effect.isHarmonic else False\n",
        "\n",
        "  effect_info[\"bend_type\"] = effect.bend.type.name if effect.isBend else None\n",
        "  effect_info[\"bend_value\"] = effect.bend.value if effect.isBend else None\n",
        "\n",
        "  effect_info[\"slide_types\"] = [slide.name for slide in effect.slides] if effect.slides else None\n",
        "\n",
        "  if effect.isGrace:\n",
        "    effect_info[\"grace_dur\"] = effect.grace.durationTime # grace note effect duration\n",
        "    effect_info[\"grace_fret\"] = effect.grace.fret\n",
        "    effect_info[\"grace_transition\"] = effect.grace.transition.name # GraceEffectTransition class, none=0, slide=1, bend=2, hammer=3\n",
        "\n",
        "  if effect.isTrill: # TrillEffect, hammerOnPullOff\n",
        "    effect_info[\"trill_fret\"] = effect.trill.fret\n",
        "    effect_info[\"trill_dur\"] = effect.trill.duration.time\n",
        "\n",
        "  return effect_info\n",
        "\n",
        "def get_note_time(note, bpm):\n",
        "  start = note.beat.start\n",
        "  start_sec = round(((start-960)/960)/(bpm/60), 4)\n",
        "  dur = note.beat.duration.time\n",
        "  dur_sec = round((dur/960)/(bpm/60), 4)\n",
        "  time = {\n",
        "      \"start\": start_sec,\n",
        "      \"dur\": dur_sec\n",
        "  }\n",
        "  return time"
      ],
      "execution_count": 3,
      "outputs": []
    },
    {
      "cell_type": "markdown",
      "metadata": {
        "id": "Da4NwbioglZk"
      },
      "source": [
        "## Get single guitar tracks from the multi-track gtp files and generate annotations for each single-track file"
      ]
    },
    {
      "cell_type": "code",
      "metadata": {
        "id": "Z4JMWRh-rvrQ"
      },
      "source": [
        "from guitarpro.models import GPException\n",
        "\n",
        "def get_single_tracks(file, output_dir):\n",
        "  song = guitarpro.parse(file)\n",
        "  # tempo = song.tempo\n",
        "  tracks = get_guitar_tracks(song)\n",
        "  for i, track in enumerate(tracks):\n",
        "    single_track_song = song # this preserves the metadata in orginal song\n",
        "    single_track_song.tracks = [track]\n",
        "    file_name = \"{}_{}.gp5\".format(file.split(\"/\")[-1].split(\".\")[0], i)\n",
        "    try:\n",
        "      guitarpro.write(single_track_song, os.path.join(output_dir, file_name))\n",
        "    except GPException:\n",
        "      print(f\"GPException, removing the corrupt file {file_name}\")\n",
        "      os.remove(os.path.join(output_dir, file_name))\n",
        "\n",
        "def get_anno(file, output_dir):\n",
        "  # for pre-processed one-track files only\n",
        "  try:\n",
        "    single_track_song = guitarpro.parse(file)\n",
        "  except GPException:\n",
        "    print(f\"GPEXCEPTION in parsing {file.split('/')[-1]}\")\n",
        "    return\n",
        "\n",
        "  data = dict()\n",
        "  metadata = get_metadata(single_track_song)\n",
        "  data[\"meta\"] = metadata\n",
        "\n",
        "  gt_tracks = get_guitar_tracks(single_track_song)\n",
        "  assert len(single_track_song.tracks) == 1\n",
        "  track = single_track_song.tracks[0]\n",
        "  track_info = get_track_info(track)\n",
        "\n",
        "  measures = []\n",
        "  for measure in track.measures:\n",
        "    measure_info = get_measure_info(measure)\n",
        "    notes = []\n",
        "    for note in get_measure_notes(measure):\n",
        "      note_info = get_note_info(note)\n",
        "      note_time = get_note_time(note, metadata[\"tempo\"])\n",
        "      note_info.update(note_time)\n",
        "      notes.append(note_info)\n",
        "      measure_info[\"notes\"] = notes\n",
        "    measures.append(measure_info)\n",
        "\n",
        "  track_info[\"measures\"] = measures\n",
        "  data[\"track\"] = track_info\n",
        "\n",
        "  file_name = \"{}.json\".format(file.split(\"/\")[-1].split(\".\")[0])\n",
        "\n",
        "  with open(os.path.join(output_dir, file_name), \"w\") as file:\n",
        "    json.dump(data, file, indent=2)"
      ],
      "execution_count": 4,
      "outputs": []
    },
    {
      "cell_type": "code",
      "metadata": {
        "colab": {
          "base_uri": "https://localhost:8080/"
        },
        "id": "F5NB_nA48xVN",
        "outputId": "92b73403-c83c-47da-80c0-a709cbb13709"
      },
      "source": [
        "# get single track gtps\n",
        "MULTI_TRACK_DIR = \"/content/drive/MyDrive/UG/raw_all_time_top_hits\"\n",
        "SINGLE_TRACK_DIR = \"/content/drive/MyDrive/UG/proc_single_track_gtp\"\n",
        "\n",
        "i = 0\n",
        "for file in glob.glob(os.path.join(MULTI_TRACK_DIR, \"*.gp*\")):\n",
        "  i += 1\n",
        "  print(f\"processing file {i}: {file.split('/')[-1]}\")\n",
        "  get_single_tracks(file=file, output_dir=SINGLE_TRACK_DIR)"
      ],
      "execution_count": null,
      "outputs": [
        {
          "output_type": "stream",
          "text": [
            "processing file 1: Metallica - Nothing Else Matters (ver 5).gp5\n",
            "processing file 2: Guns N' Roses - Sweet Child O Mine (ver 2).gp4\n",
            "processing file 3: Led Zeppelin - Stairway To Heaven.gp5\n",
            "processing file 4: Metallica - Fade To Black (ver 4).gp5\n",
            "processing file 5: JerryC - Canon Rock.gp4\n",
            "processing file 6: Metallica - One (ver 2).gp5\n",
            "processing file 7: Metallica - Master Of Puppets (ver 4 by DUDERMAN).gp5\n",
            "processing file 8: Metallica - Enter Sandman.gp5\n",
            "processing file 9: ACDC - Back In Black (ver 4 by GuitarManiac09).gp5\n",
            "processing file 10: Deep Purple - Smoke On The Water.gp4\n",
            "processing file 11: Metallica - The Day That Never Comes.gp4\n",
            "processing file 12: Black Sabbath - Paranoid.gp5\n",
            "processing file 13: Metallica - Nothing Else Matters (ver 6).gp3\n",
            "processing file 14: Pink Floyd - Comfortably Numb.gp3\n",
            "processing file 15: Nirvana - Smells Like Teen Spirit (ver 2).gp5\n",
            "processing file 16: Ozzy Osbourne - Crazy Train.gp5\n",
            "processing file 17: ACDC - Highway To Hell (ver 3).gp5\n",
            "processing file 18: Guns N' Roses - Dont Cry.gp3\n",
            "processing file 19: Iron Maiden - Fear Of The Dark.gp4\n",
            "processing file 20: Metallica - Seek And Destroy (ver 2).gp5\n",
            "processing file 21: Oasis - Wonderwall.gp4\n",
            "processing file 22: Thin Lizzy - Got To Give It Up.gp5\n",
            "processing file 23: Metallica - Nothing Else Matters (ver 7).gp4\n",
            "processing file 24: Eric Clapton - Tears In Heaven.gp3\n",
            "processing file 25: Guns N' Roses - November Rain (ver 2).gp5\n",
            "processing file 26: Metallica - For Whom The Bell Tolls.gp3\n",
            "processing file 27: Jimi Hendrix - Little Wing.gp3\n",
            "processing file 28: Guns N' Roses - Welcome To The Jungle (ver 3).gp4\n",
            "processing file 29: Nirvana - Come As You Are.gp3\n",
            "processing file 30: Pink Floyd - Wish You Were Here (ver 5).gp5\n",
            "processing file 31: Chuck Berry - Johnny B Goode (ver 6).gp5\n",
            "processing file 32: Muse - Hysteria.gp4\n",
            "processing file 33: Pink Floyd - Wish You Were Here.gp4\n",
            "processing file 34: System Of A Down - Toxicity.gp4\n",
            "processing file 35: Avenged Sevenfold - Afterlife.gp5\n",
            "processing file 36: Metallica - Welcome Home Sanitarium.gp4\n",
            "processing file 37: Iron Maiden - The Trooper (ver 5).gp5\n",
            "processing file 38: Green Day - Wake Me Up When September Ends (ver 3).gp5\n",
            "processing file 39: Pantera - Cowboys From Hell (ver 2).gp3\n",
            "processing file 40: Dire Straits - Sultans Of Swing.gp5\n",
            "processing file 41: Pink Floyd - Another Brick In The Wall Part 2.gp4\n",
            "processing file 42: Slayer - Raining Blood (ver 3).gp4\n",
            "processing file 43: Metallica - Enter Sandman (ver 5).gp4\n",
            "processing file 44: Eric Johnson - Cliffs Of Dover (ver 2 by lem_ian).gp5\n",
            "processing file 45: Jimi Hendrix - Hey Joe (ver 2).gp3\n",
            "processing file 46: Metallica - Master Of Puppets.gp3\n",
            "processing file 47: Megadeth - Symphony Of Destruction (ver 6 by Hanger.18).gp5\n",
            "processing file 48: Kansas - Dust In The Wind.gp5\n",
            "processing file 49: Jason Mraz - Im Yours (ver 3 by Maitinin).gp5\n",
            "processing file 50: Pantera - Cemetery Gates (ver 4).gp5\n",
            "processing file 51: Red Hot Chili Peppers - Cant Stop (ver 5).gp4\n",
            "processing file 52: Red Hot Chili Peppers - Scar Tissue.gp4\n",
            "processing file 53: Misc Soundtrack - Pirates Of The Caribbean - Hes A Pirate (ver 5 by jariss).gp5\n",
            "processing file 54: Guns N' Roses - Knockin On Heavens Door (ver 8).gp4\n",
            "processing file 55: Eric Clapton - Layla (ver 2).gp4\n",
            "processing file 56: System Of A Down - Chop Suey (ver 6 by Benzie101).gp5\n",
            "processing file 57: Black Sabbath - Iron Man (ver 3 by jessew).gp4\n",
            "processing file 58: Foo Fighters - Everlong.gp4\n",
            "processing file 59: Metallica - Battery (ver 2).gp3\n",
            "processing file 60: The White Stripes - Seven Nation Army.gp3\n",
            "processing file 61: Scorpions - Rock You Like A Hurricane (ver 2).gp5\n",
            "processing file 62: Green Day - 21 Guns (ver 4 by tangoso).gp5\n",
            "processing file 63: Lamb of God - Laid To Rest.gp5\n",
            "processing file 64: Michael Jackson - Beat It.gp5\n",
            "processing file 65: Iron Maiden - The Trooper.gp4\n",
            "processing file 66: Metallica - Orion (ver 5).gp4\n",
            "processing file 67: Bullet For My Valentine - Tears Dont Fall (ver 2 by dannyloughran).gp4\n",
            "processing file 68: Jimi Hendrix - All Along The Watchtower (ver 2).gp3\n",
            "processing file 69: Aerosmith - Dream On (ver 3).gp5\n",
            "processing file 70: Foo Fighters - The Pretender.gp4\n",
            "processing file 71: Gary Moore - Still Got The Blues.gp3\n",
            "processing file 72: Adele - Rolling In The Deep.gp5\n",
            "processing file 73: Eagles - Hotel California.gp3\n",
            "processing file 74: Muse - Knights Of Cydonia.gp5\n",
            "processing file 75: Red Hot Chili Peppers - Under The Bridge.gp5\n",
            "processing file 76: Red Hot Chili Peppers - Snow Hey Oh.gp5\n",
            "processing file 77: Jet - Are You Gonna Be My Girl.gp4\n",
            "processing file 78: Lynyrd Skynyrd - Free Bird.gp5\n",
            "processing file 79: Avenged Sevenfold - Unholy Confessions.gp4\n",
            "processing file 80: Michael Jackson - Beat It.gp4\n",
            "processing file 81: Motörhead - Ace Of Spades.gp5\n",
            "processing file 82: The Beatles - Yesterday.gp5\n",
            "processing file 83: The Strokes - Reptilia.gp5\n",
            "processing file 84: Red Hot Chili Peppers - Under The Bridge (ver 6 by dorissie).gp5\n",
            "processing file 85: Misc Soundtrack - Pirates Of The Caribbean - Hes A Pirate (ver 9 by ccb51310).gp5\n",
            "processing file 86: Marilyn Manson - Sweet Dreams Are Made Of This (ver 2).gp5\n",
            "processing file 87: Misc Computer Games - Super Mario Brothers Theme (ver 2 by nay-palm).gp5\n",
            "processing file 88: ACDC - Back In Black.gp5\n",
            "processing file 89: Santana - Europa.gp3\n",
            "processing file 90: DragonForce - Through The Fire And Flames.gp5\n",
            "processing file 91: Lynyrd Skynyrd - Sweet Home Alabama.gp5\n",
            "processing file 92: Red Hot Chili Peppers - Californication (ver 3).gp5\n"
          ],
          "name": "stdout"
        },
        {
          "output_type": "stream",
          "text": [
            "9 is an unknown ChordExtension in track 1, measure 38, voice 1, beat 1\n",
            "9 is an unknown ChordExtension in track 1, measure 39, voice 1, beat 7\n"
          ],
          "name": "stderr"
        },
        {
          "output_type": "stream",
          "text": [
            "processing file 93: Avenged Sevenfold - Beast And The Harlot.gp5\n",
            "processing file 94: Extreme - More Than Words (ver 3).gp5\n",
            "processing file 95: Green Day - American Idiot (ver 2).gp5\n",
            "processing file 96: Bullet For My Valentine - Waking The Demon.gp5\n",
            "processing file 97: Led Zeppelin - Black Dog.gp5\n",
            "processing file 98: Metallica - Creeping Death.gp5\n",
            "processing file 99: Queen - Bohemian Rhapsody.gp5\n",
            "processing file 100: Scorpions - Still Loving You (ver 3).gp5\n"
          ],
          "name": "stdout"
        }
      ]
    },
    {
      "cell_type": "code",
      "metadata": {
        "id": "IjG0sGaijLms",
        "colab": {
          "base_uri": "https://localhost:8080/"
        },
        "outputId": "05c15ea3-caa4-4d1d-eecd-f2bba4c79360"
      },
      "source": [
        "# get single track annotations\n",
        "# this is likely not useful in our experiments\n",
        "# but just as a test, all single tracks of Don't Cry and the first track of Hey Joe (jimi hendrix) is invalid.\n",
        "# guitar pro fails to parse them\n",
        "from guitarpro.models import GPException\n",
        "JSON_DIR = \"/content/drive/MyDrive/UG/proc_single_track_anno\"\n",
        "\n",
        "for file in glob.glob(os.path.join(SINGLE_TRACK_DIR, \"*.gp*\")):\n",
        "  print(f\"processing {file.split('/')[-1]}\")\n",
        "  get_anno(file=file, output_dir=JSON_DIR)"
      ],
      "execution_count": null,
      "outputs": [
        {
          "output_type": "stream",
          "text": [
            "processing Metallica - Nothing Else Matters (ver 5)_0.gp5\n",
            "processing Metallica - Nothing Else Matters (ver 5)_1.gp5\n",
            "processing Metallica - Nothing Else Matters (ver 5)_2.gp5\n",
            "processing Metallica - Nothing Else Matters (ver 5)_3.gp5\n",
            "processing Metallica - Nothing Else Matters (ver 5)_4.gp5\n",
            "processing Guns N' Roses - Sweet Child O Mine (ver 2)_0.gp5\n",
            "processing Guns N' Roses - Sweet Child O Mine (ver 2)_1.gp5\n",
            "processing Guns N' Roses - Sweet Child O Mine (ver 2)_2.gp5\n",
            "processing Led Zeppelin - Stairway To Heaven_0.gp5\n",
            "processing Led Zeppelin - Stairway To Heaven_1.gp5\n",
            "processing Led Zeppelin - Stairway To Heaven_2.gp5\n",
            "processing Led Zeppelin - Stairway To Heaven_3.gp5\n",
            "processing Led Zeppelin - Stairway To Heaven_4.gp5\n",
            "processing Metallica - Fade To Black (ver 4)_0.gp5\n",
            "processing Metallica - Fade To Black (ver 4)_1.gp5\n",
            "processing Metallica - Fade To Black (ver 4)_2.gp5\n",
            "processing Metallica - Fade To Black (ver 4)_3.gp5\n",
            "processing Metallica - Fade To Black (ver 4)_4.gp5\n",
            "processing Metallica - Fade To Black (ver 4)_5.gp5\n",
            "processing Metallica - Fade To Black (ver 4)_6.gp5\n",
            "processing JerryC - Canon Rock_0.gp5\n",
            "processing Metallica - One (ver 2)_0.gp5\n",
            "processing Metallica - One (ver 2)_1.gp5\n",
            "processing Metallica - One (ver 2)_2.gp5\n",
            "processing Metallica - One (ver 2)_3.gp5\n",
            "processing Metallica - Master Of Puppets (ver 4 by DUDERMAN)_0.gp5\n",
            "processing Metallica - Master Of Puppets (ver 4 by DUDERMAN)_1.gp5\n",
            "processing Metallica - Master Of Puppets (ver 4 by DUDERMAN)_2.gp5\n",
            "processing Metallica - Master Of Puppets (ver 4 by DUDERMAN)_3.gp5\n",
            "processing Metallica - Enter Sandman_0.gp5\n",
            "processing Metallica - Enter Sandman_1.gp5\n",
            "processing Metallica - Enter Sandman_2.gp5\n",
            "processing Metallica - Enter Sandman_3.gp5\n",
            "processing Metallica - Enter Sandman_4.gp5\n",
            "processing Metallica - Enter Sandman_5.gp5\n",
            "processing Metallica - Enter Sandman_6.gp5\n",
            "processing ACDC - Back In Black (ver 4 by GuitarManiac09)_0.gp5\n",
            "processing ACDC - Back In Black (ver 4 by GuitarManiac09)_1.gp5\n",
            "processing Deep Purple - Smoke On The Water_0.gp5\n",
            "processing Deep Purple - Smoke On The Water_1.gp5\n",
            "processing Deep Purple - Smoke On The Water_2.gp5\n",
            "processing Metallica - The Day That Never Comes_0.gp5\n",
            "processing Metallica - The Day That Never Comes_1.gp5\n",
            "processing Metallica - The Day That Never Comes_2.gp5\n",
            "processing Metallica - The Day That Never Comes_3.gp5\n",
            "processing Metallica - The Day That Never Comes_4.gp5\n",
            "processing Metallica - The Day That Never Comes_5.gp5\n",
            "processing Black Sabbath - Paranoid_0.gp5\n",
            "processing Black Sabbath - Paranoid_1.gp5\n",
            "processing Metallica - Nothing Else Matters (ver 6)_0.gp5\n",
            "processing Metallica - Nothing Else Matters (ver 6)_1.gp5\n",
            "processing Metallica - Nothing Else Matters (ver 6)_2.gp5\n",
            "processing Pink Floyd - Comfortably Numb_0.gp5\n",
            "processing Pink Floyd - Comfortably Numb_1.gp5\n",
            "processing Pink Floyd - Comfortably Numb_2.gp5\n",
            "processing Nirvana - Smells Like Teen Spirit (ver 2)_0.gp5\n",
            "processing Nirvana - Smells Like Teen Spirit (ver 2)_1.gp5\n",
            "processing Ozzy Osbourne - Crazy Train_0.gp5\n",
            "processing Ozzy Osbourne - Crazy Train_1.gp5\n",
            "processing ACDC - Highway To Hell (ver 3)_0.gp5\n",
            "processing ACDC - Highway To Hell (ver 3)_1.gp5\n",
            "processing Guns N' Roses - Dont Cry_0.gp5\n",
            "GPEXCEPTION in parsing Guns N' Roses - Dont Cry_0.gp5\n",
            "processing Guns N' Roses - Dont Cry_1.gp5\n",
            "GPEXCEPTION in parsing Guns N' Roses - Dont Cry_1.gp5\n",
            "processing Guns N' Roses - Dont Cry_2.gp5\n",
            "GPEXCEPTION in parsing Guns N' Roses - Dont Cry_2.gp5\n",
            "processing Guns N' Roses - Dont Cry_3.gp5\n",
            "GPEXCEPTION in parsing Guns N' Roses - Dont Cry_3.gp5\n",
            "processing Iron Maiden - Fear Of The Dark_0.gp5\n",
            "processing Iron Maiden - Fear Of The Dark_1.gp5\n",
            "processing Metallica - Seek And Destroy (ver 2)_0.gp5\n",
            "processing Metallica - Seek And Destroy (ver 2)_1.gp5\n",
            "processing Metallica - Seek And Destroy (ver 2)_2.gp5\n",
            "processing Oasis - Wonderwall_0.gp5\n",
            "processing Oasis - Wonderwall_1.gp5\n",
            "processing Oasis - Wonderwall_2.gp5\n",
            "processing Thin Lizzy - Got To Give It Up_0.gp5\n",
            "processing Thin Lizzy - Got To Give It Up_1.gp5\n",
            "processing Metallica - Nothing Else Matters (ver 7)_0.gp5\n",
            "processing Eric Clapton - Tears In Heaven_0.gp5\n",
            "processing Eric Clapton - Tears In Heaven_1.gp5\n",
            "processing Guns N' Roses - November Rain (ver 2)_0.gp5\n",
            "processing Guns N' Roses - November Rain (ver 2)_1.gp5\n",
            "processing Guns N' Roses - November Rain (ver 2)_2.gp5\n",
            "processing Guns N' Roses - November Rain (ver 2)_3.gp5\n",
            "processing Metallica - For Whom The Bell Tolls_0.gp5\n",
            "processing Metallica - For Whom The Bell Tolls_1.gp5\n",
            "processing Jimi Hendrix - Little Wing_0.gp5\n",
            "processing Jimi Hendrix - Little Wing_1.gp5\n",
            "processing Guns N' Roses - Welcome To The Jungle (ver 3)_0.gp5\n",
            "processing Guns N' Roses - Welcome To The Jungle (ver 3)_1.gp5\n",
            "processing Guns N' Roses - Welcome To The Jungle (ver 3)_2.gp5\n",
            "processing Guns N' Roses - Welcome To The Jungle (ver 3)_3.gp5\n",
            "processing Guns N' Roses - Welcome To The Jungle (ver 3)_4.gp5\n",
            "processing Nirvana - Come As You Are_0.gp5\n",
            "processing Nirvana - Come As You Are_1.gp5\n",
            "processing Pink Floyd - Wish You Were Here (ver 5)_0.gp5\n",
            "processing Pink Floyd - Wish You Were Here (ver 5)_1.gp5\n",
            "processing Pink Floyd - Wish You Were Here (ver 5)_2.gp5\n",
            "processing Pink Floyd - Wish You Were Here (ver 5)_3.gp5\n",
            "processing Chuck Berry - Johnny B Goode (ver 6)_0.gp5\n",
            "processing Chuck Berry - Johnny B Goode (ver 6)_1.gp5\n",
            "processing Chuck Berry - Johnny B Goode (ver 6)_2.gp5\n",
            "processing Muse - Hysteria_0.gp5\n",
            "processing Muse - Hysteria_1.gp5\n",
            "processing Muse - Hysteria_2.gp5\n",
            "processing Pink Floyd - Wish You Were Here_0.gp5\n",
            "processing Pink Floyd - Wish You Were Here_1.gp5\n",
            "processing Pink Floyd - Wish You Were Here_2.gp5\n",
            "processing System Of A Down - Toxicity_0.gp5\n",
            "processing System Of A Down - Toxicity_1.gp5\n",
            "processing System Of A Down - Toxicity_2.gp5\n",
            "processing System Of A Down - Toxicity_3.gp5\n",
            "processing Avenged Sevenfold - Afterlife_0.gp5\n",
            "processing Avenged Sevenfold - Afterlife_1.gp5\n",
            "processing Avenged Sevenfold - Afterlife_2.gp5\n",
            "processing Avenged Sevenfold - Afterlife_3.gp5\n",
            "processing Metallica - Welcome Home Sanitarium_0.gp5\n",
            "processing Metallica - Welcome Home Sanitarium_1.gp5\n",
            "processing Metallica - Welcome Home Sanitarium_2.gp5\n",
            "processing Metallica - Welcome Home Sanitarium_3.gp5\n",
            "processing Iron Maiden - The Trooper (ver 5)_0.gp5\n",
            "processing Iron Maiden - The Trooper (ver 5)_1.gp5\n",
            "processing Iron Maiden - The Trooper (ver 5)_2.gp5\n",
            "processing Green Day - Wake Me Up When September Ends (ver 3)_0.gp5\n",
            "processing Green Day - Wake Me Up When September Ends (ver 3)_1.gp5\n",
            "processing Pantera - Cowboys From Hell (ver 2)_0.gp5\n",
            "processing Pantera - Cowboys From Hell (ver 2)_1.gp5\n",
            "processing Dire Straits - Sultans Of Swing_0.gp5\n",
            "processing Dire Straits - Sultans Of Swing_1.gp5\n",
            "processing Pink Floyd - Another Brick In The Wall Part 2_0.gp5\n",
            "processing Pink Floyd - Another Brick In The Wall Part 2_1.gp5\n",
            "processing Pink Floyd - Another Brick In The Wall Part 2_2.gp5\n",
            "processing Pink Floyd - Another Brick In The Wall Part 2_3.gp5\n",
            "processing Slayer - Raining Blood (ver 3)_0.gp5\n",
            "processing Slayer - Raining Blood (ver 3)_1.gp5\n",
            "processing Metallica - Enter Sandman (ver 5)_0.gp5\n",
            "processing Metallica - Enter Sandman (ver 5)_1.gp5\n",
            "processing Metallica - Enter Sandman (ver 5)_2.gp5\n",
            "processing Eric Johnson - Cliffs Of Dover (ver 2 by lem_ian)_0.gp5\n",
            "processing Jimi Hendrix - Hey Joe (ver 2)_0.gp5\n",
            "GPEXCEPTION in parsing Jimi Hendrix - Hey Joe (ver 2)_0.gp5\n",
            "processing Jimi Hendrix - Hey Joe (ver 2)_1.gp5\n",
            "processing Metallica - Master Of Puppets_0.gp5\n",
            "processing Metallica - Master Of Puppets_1.gp5\n",
            "processing Metallica - Master Of Puppets_2.gp5\n",
            "processing Megadeth - Symphony Of Destruction (ver 6 by Hanger_0.gp5\n",
            "processing Megadeth - Symphony Of Destruction (ver 6 by Hanger_1.gp5\n",
            "processing Kansas - Dust In The Wind_0.gp5\n",
            "processing Kansas - Dust In The Wind_1.gp5\n",
            "processing Jason Mraz - Im Yours (ver 3 by Maitinin)_0.gp5\n",
            "processing Jason Mraz - Im Yours (ver 3 by Maitinin)_1.gp5\n",
            "processing Pantera - Cemetery Gates (ver 4)_0.gp5\n",
            "processing Pantera - Cemetery Gates (ver 4)_1.gp5\n",
            "processing Pantera - Cemetery Gates (ver 4)_2.gp5\n",
            "processing Pantera - Cemetery Gates (ver 4)_3.gp5\n",
            "processing Pantera - Cemetery Gates (ver 4)_4.gp5\n",
            "processing Pantera - Cemetery Gates (ver 4)_5.gp5\n",
            "processing Red Hot Chili Peppers - Cant Stop (ver 5)_0.gp5\n",
            "processing Red Hot Chili Peppers - Cant Stop (ver 5)_1.gp5\n",
            "processing Red Hot Chili Peppers - Scar Tissue_0.gp5\n",
            "processing Red Hot Chili Peppers - Scar Tissue_1.gp5\n",
            "processing Misc Soundtrack - Pirates Of The Caribbean - Hes A Pirate (ver 5 by jariss)_0.gp5\n",
            "processing Guns N' Roses - Knockin On Heavens Door (ver 8)_0.gp5\n",
            "processing Guns N' Roses - Knockin On Heavens Door (ver 8)_1.gp5\n",
            "processing Guns N' Roses - Knockin On Heavens Door (ver 8)_2.gp5\n",
            "processing Eric Clapton - Layla (ver 2)_0.gp5\n",
            "processing Eric Clapton - Layla (ver 2)_1.gp5\n",
            "processing Eric Clapton - Layla (ver 2)_2.gp5\n",
            "processing Eric Clapton - Layla (ver 2)_3.gp5\n",
            "processing Eric Clapton - Layla (ver 2)_4.gp5\n",
            "processing Eric Clapton - Layla (ver 2)_5.gp5\n",
            "processing System Of A Down - Chop Suey (ver 6 by Benzie101)_0.gp5\n",
            "processing System Of A Down - Chop Suey (ver 6 by Benzie101)_1.gp5\n",
            "processing System Of A Down - Chop Suey (ver 6 by Benzie101)_2.gp5\n",
            "processing System Of A Down - Chop Suey (ver 6 by Benzie101)_3.gp5\n",
            "processing Black Sabbath - Iron Man (ver 3 by jessew)_0.gp5\n",
            "processing Black Sabbath - Iron Man (ver 3 by jessew)_1.gp5\n",
            "processing Foo Fighters - Everlong_0.gp5\n",
            "processing Foo Fighters - Everlong_1.gp5\n",
            "processing Foo Fighters - Everlong_2.gp5\n",
            "processing Metallica - Battery (ver 2)_0.gp5\n",
            "processing Metallica - Battery (ver 2)_1.gp5\n",
            "processing Metallica - Battery (ver 2)_2.gp5\n",
            "processing Metallica - Battery (ver 2)_3.gp5\n",
            "processing The White Stripes - Seven Nation Army_0.gp5\n",
            "processing The White Stripes - Seven Nation Army_1.gp5\n",
            "processing Scorpions - Rock You Like A Hurricane (ver 2)_0.gp5\n",
            "processing Scorpions - Rock You Like A Hurricane (ver 2)_1.gp5\n",
            "processing Scorpions - Rock You Like A Hurricane (ver 2)_2.gp5\n",
            "processing Green Day - 21 Guns (ver 4 by tangoso)_0.gp5\n",
            "processing Green Day - 21 Guns (ver 4 by tangoso)_1.gp5\n",
            "processing Green Day - 21 Guns (ver 4 by tangoso)_2.gp5\n",
            "processing Green Day - 21 Guns (ver 4 by tangoso)_3.gp5\n",
            "processing Lamb of God - Laid To Rest_0.gp5\n",
            "processing Lamb of God - Laid To Rest_1.gp5\n",
            "processing Lamb of God - Laid To Rest_2.gp5\n",
            "processing Michael Jackson - Beat It_0.gp5\n",
            "processing Michael Jackson - Beat It_1.gp5\n",
            "processing Iron Maiden - The Trooper_0.gp5\n",
            "processing Iron Maiden - The Trooper_1.gp5\n",
            "processing Iron Maiden - The Trooper_2.gp5\n",
            "processing Metallica - Orion (ver 5)_0.gp5\n",
            "processing Metallica - Orion (ver 5)_1.gp5\n",
            "processing Metallica - Orion (ver 5)_2.gp5\n",
            "processing Metallica - Orion (ver 5)_3.gp5\n",
            "processing Metallica - Orion (ver 5)_4.gp5\n",
            "processing Metallica - Orion (ver 5)_5.gp5\n",
            "processing Bullet For My Valentine - Tears Dont Fall (ver 2 by dannyloughran)_0.gp5\n",
            "processing Bullet For My Valentine - Tears Dont Fall (ver 2 by dannyloughran)_1.gp5\n",
            "processing Jimi Hendrix - All Along The Watchtower (ver 2)_0.gp5\n",
            "processing Jimi Hendrix - All Along The Watchtower (ver 2)_1.gp5\n",
            "processing Aerosmith - Dream On (ver 3)_0.gp5\n",
            "processing Aerosmith - Dream On (ver 3)_1.gp5\n",
            "processing Aerosmith - Dream On (ver 3)_2.gp5\n",
            "processing Foo Fighters - The Pretender_0.gp5\n",
            "processing Foo Fighters - The Pretender_1.gp5\n",
            "processing Foo Fighters - The Pretender_2.gp5\n",
            "processing Gary Moore - Still Got The Blues_0.gp5\n",
            "processing Gary Moore - Still Got The Blues_1.gp5\n",
            "processing Adele - Rolling In The Deep_0.gp5\n",
            "processing Adele - Rolling In The Deep_1.gp5\n",
            "processing Eagles - Hotel California_0.gp5\n",
            "processing Eagles - Hotel California_1.gp5\n",
            "processing Eagles - Hotel California_2.gp5\n",
            "processing Muse - Knights Of Cydonia_0.gp5\n",
            "processing Red Hot Chili Peppers - Under The Bridge_0.gp5\n",
            "processing Red Hot Chili Peppers - Under The Bridge_1.gp5\n",
            "processing Red Hot Chili Peppers - Under The Bridge_2.gp5\n",
            "processing Red Hot Chili Peppers - Snow Hey Oh_0.gp5\n",
            "processing Red Hot Chili Peppers - Snow Hey Oh_1.gp5\n",
            "processing Red Hot Chili Peppers - Snow Hey Oh_2.gp5\n",
            "processing Jet - Are You Gonna Be My Girl_0.gp5\n",
            "processing Jet - Are You Gonna Be My Girl_1.gp5\n",
            "processing Jet - Are You Gonna Be My Girl_2.gp5\n",
            "processing Lynyrd Skynyrd - Free Bird_0.gp5\n",
            "processing Lynyrd Skynyrd - Free Bird_1.gp5\n",
            "processing Lynyrd Skynyrd - Free Bird_2.gp5\n",
            "processing Lynyrd Skynyrd - Free Bird_3.gp5\n",
            "processing Avenged Sevenfold - Unholy Confessions_0.gp5\n",
            "processing Avenged Sevenfold - Unholy Confessions_1.gp5\n",
            "processing Avenged Sevenfold - Unholy Confessions_2.gp5\n",
            "processing Avenged Sevenfold - Unholy Confessions_3.gp5\n",
            "processing Motörhead - Ace Of Spades_0.gp5\n",
            "processing Motörhead - Ace Of Spades_1.gp5\n",
            "processing The Beatles - Yesterday_0.gp5\n",
            "processing The Beatles - Yesterday_1.gp5\n",
            "processing The Strokes - Reptilia_0.gp5\n",
            "processing The Strokes - Reptilia_1.gp5\n",
            "processing Red Hot Chili Peppers - Under The Bridge (ver 6 by dorissie)_0.gp5\n",
            "processing Misc Soundtrack - Pirates Of The Caribbean - Hes A Pirate (ver 9 by ccb51310)_0.gp5\n",
            "processing Misc Soundtrack - Pirates Of The Caribbean - Hes A Pirate (ver 9 by ccb51310)_1.gp5\n",
            "processing Marilyn Manson - Sweet Dreams Are Made Of This (ver 2)_0.gp5\n",
            "processing Marilyn Manson - Sweet Dreams Are Made Of This (ver 2)_1.gp5\n",
            "processing Misc Computer Games - Super Mario Brothers Theme (ver 2 by nay-palm)_0.gp5\n",
            "processing Misc Computer Games - Super Mario Brothers Theme (ver 2 by nay-palm)_1.gp5\n",
            "processing ACDC - Back In Black_0.gp5\n",
            "processing ACDC - Back In Black_1.gp5\n",
            "processing ACDC - Back In Black_2.gp5\n",
            "processing Santana - Europa_0.gp5\n",
            "processing DragonForce - Through The Fire And Flames_0.gp5\n",
            "processing DragonForce - Through The Fire And Flames_1.gp5\n",
            "processing DragonForce - Through The Fire And Flames_2.gp5\n",
            "processing DragonForce - Through The Fire And Flames_3.gp5\n",
            "processing DragonForce - Through The Fire And Flames_4.gp5\n",
            "processing DragonForce - Through The Fire And Flames_5.gp5\n",
            "processing Lynyrd Skynyrd - Sweet Home Alabama_0.gp5\n",
            "processing Lynyrd Skynyrd - Sweet Home Alabama_1.gp5\n",
            "processing Lynyrd Skynyrd - Sweet Home Alabama_2.gp5\n",
            "processing Red Hot Chili Peppers - Californication (ver 3)_0.gp5\n",
            "processing Red Hot Chili Peppers - Californication (ver 3)_1.gp5\n",
            "processing Avenged Sevenfold - Beast And The Harlot_0.gp5\n",
            "processing Avenged Sevenfold - Beast And The Harlot_1.gp5\n",
            "processing Avenged Sevenfold - Beast And The Harlot_2.gp5\n",
            "processing Extreme - More Than Words (ver 3)_0.gp5\n",
            "processing Green Day - American Idiot (ver 2)_0.gp5\n",
            "processing Green Day - American Idiot (ver 2)_1.gp5\n",
            "processing Green Day - American Idiot (ver 2)_2.gp5\n",
            "processing Green Day - American Idiot (ver 2)_3.gp5\n",
            "processing Bullet For My Valentine - Waking The Demon_0.gp5\n",
            "processing Bullet For My Valentine - Waking The Demon_1.gp5\n",
            "processing Bullet For My Valentine - Waking The Demon_2.gp5\n",
            "processing Bullet For My Valentine - Waking The Demon_3.gp5\n",
            "processing Bullet For My Valentine - Waking The Demon_4.gp5\n",
            "processing Led Zeppelin - Black Dog_0.gp5\n",
            "processing Led Zeppelin - Black Dog_1.gp5\n",
            "processing Led Zeppelin - Black Dog_2.gp5\n",
            "processing Metallica - Creeping Death_0.gp5\n",
            "processing Metallica - Creeping Death_1.gp5\n",
            "processing Metallica - Creeping Death_2.gp5\n",
            "processing Metallica - Creeping Death_3.gp5\n",
            "processing Metallica - Creeping Death_4.gp5\n",
            "processing Queen - Bohemian Rhapsody_0.gp5\n",
            "processing Queen - Bohemian Rhapsody_1.gp5\n",
            "processing Queen - Bohemian Rhapsody_2.gp5\n",
            "processing Queen - Bohemian Rhapsody_3.gp5\n",
            "processing Queen - Bohemian Rhapsody_4.gp5\n",
            "processing Scorpions - Still Loving You (ver 3)_0.gp5\n",
            "processing Scorpions - Still Loving You (ver 3)_1.gp5\n",
            "processing Scorpions - Still Loving You (ver 3)_2.gp5\n",
            "processing Scorpions - Still Loving You (ver 3)_3.gp5\n",
            "processing Scorpions - Still Loving You (ver 3)_4.gp5\n"
          ],
          "name": "stdout"
        }
      ]
    },
    {
      "cell_type": "markdown",
      "metadata": {
        "id": "bnEFGkWafWoA"
      },
      "source": [
        "## Break the single-track gtp into 4-bar phrases. Then generate annotations for the phrases"
      ]
    },
    {
      "cell_type": "code",
      "metadata": {
        "id": "DWs5O39wfthy"
      },
      "source": [
        "def get_phrases(single_track_file, output_dir):\n",
        "  # get 4 bar single-track phrases\n",
        "  try:\n",
        "    song = guitarpro.parse(single_track_file)\n",
        "  except GPException:\n",
        "    print(f\"GPEXCEPTION in parsing {single_track_file.split('/')[-1]}\")\n",
        "    return\n",
        "  tempo = song.tempo\n",
        "  assert len(song.tracks) == 1\n",
        "  track = song.tracks[0]\n",
        "  measures = track.measures\n",
        "  n = 4\n",
        "  bar_phrases = [measures[i:i+n] for i in range(0, len(measures), n)]\n",
        "  for i, phrase in enumerate(bar_phrases):\n",
        "    if not all(len(get_measure_notes(measure))==0 for measure in phrase):\n",
        "      phrase_track = track\n",
        "      phrase_track.measures = phrase\n",
        "      # print(len(phrase_track.measures)\n",
        "      phrase_song = song\n",
        "      phrase_song.tracks = [phrase_track]\n",
        "      # phrase_song = guitarpro.Song(tracks=[phrase_track], tempo=song.tempo)\n",
        "      file_name = \"{}_{}.gp5\".format(single_track_file.split(\"/\")[-1].split(\".\")[0], i)\n",
        "\n",
        "      guitarpro.write(phrase_song, os.path.join(output_dir, file_name))\n",
        "    else:\n",
        "      print(f\"empty measure found in {single_track_file.split('/')[-1]} - {i}\")\n",
        "      # raise Exception(f\"empty measure found in {single_track_file.split('/')[-1]} - {i}\")"
      ],
      "execution_count": null,
      "outputs": []
    },
    {
      "cell_type": "code",
      "metadata": {
        "id": "xOMt22c3ywoT"
      },
      "source": [
        "from guitarpro.models import GPException\n",
        "SINGLE_TRACK_DIR = \"/content/drive/MyDrive/UG/proc_single_track_gtp\"\n",
        "PHRASE_DIR = \"/content/drive/MyDrive/UG/proc_phrases_gtp\"\n",
        "for file in glob.glob(os.path.join(SINGLE_TRACK_DIR, \"*.gp*\")):\n",
        "  print(f\"processing {file.split('/')[-1]}\")\n",
        "  get_phrases(file, PHRASE_DIR)"
      ],
      "execution_count": null,
      "outputs": []
    },
    {
      "cell_type": "code",
      "metadata": {
        "id": "c9R722GY1ta8"
      },
      "source": [
        "JSON_DIR = \"/content/drive/MyDrive/UG/proc_phrases_anno\"\n",
        "for file in glob.glob(os.path.join(PHRASE_DIR, \"*.gp*\")):\n",
        "  print(f\"processing {file.split('/')[-1]}\")\n",
        "  get_anno(file, JSON_DIR)"
      ],
      "execution_count": null,
      "outputs": []
    },
    {
      "cell_type": "code",
      "metadata": {
        "id": "LmOhJL2enLvE"
      },
      "source": [
        "\"Led Zeppelin - Stairway To Heaven_4_34\" seems to be empty because of tied notes from the previous phrase"
      ],
      "execution_count": null,
      "outputs": []
    },
    {
      "cell_type": "code",
      "metadata": {
        "id": "drX8parZtbMU",
        "colab": {
          "base_uri": "https://localhost:8080/"
        },
        "outputId": "a7b2a1aa-c094-4f1b-a5f9-028b992a2837"
      },
      "source": [
        "file = \"/content/drive/MyDrive/tempochange.gp5\"\n",
        "song = guitarpro.parse(file)\n",
        "song.tracks[0].measures[1].voices[0].beats[2].effect.mixTableChange.tempo"
      ],
      "execution_count": 29,
      "outputs": [
        {
          "output_type": "execute_result",
          "data": {
            "text/plain": [
              "MixTableItem(value=200, duration=0, allTracks=False)"
            ]
          },
          "metadata": {},
          "execution_count": 29
        }
      ]
    },
    {
      "cell_type": "code",
      "metadata": {
        "colab": {
          "base_uri": "https://localhost:8080/"
        },
        "id": "eg1bmSFi0X6Q",
        "outputId": "894f9929-7bb0-4823-8f33-90382e5e846c"
      },
      "source": [
        "song.tracks[0].measures[1].voices[0].beats[0].start"
      ],
      "execution_count": 33,
      "outputs": [
        {
          "output_type": "execute_result",
          "data": {
            "text/plain": [
              "4800"
            ]
          },
          "metadata": {},
          "execution_count": 33
        }
      ]
    },
    {
      "cell_type": "code",
      "metadata": {
        "colab": {
          "base_uri": "https://localhost:8080/"
        },
        "id": "2PHfq34s6d6P",
        "outputId": "4083c23f-4818-4abb-e9b0-960e9394d4dd"
      },
      "source": [
        "song.tracks[0].measures[1].voices[0].beats[1].duration.time"
      ],
      "execution_count": 41,
      "outputs": [
        {
          "output_type": "execute_result",
          "data": {
            "text/plain": [
              "960"
            ]
          },
          "metadata": {},
          "execution_count": 41
        }
      ]
    },
    {
      "cell_type": "code",
      "metadata": {
        "colab": {
          "base_uri": "https://localhost:8080/"
        },
        "id": "tXRzw6le6nRk",
        "outputId": "7157ee44-6e3f-4f7b-e8da-6609f0a0ea2b"
      },
      "source": [
        "song.tracks[0].measures[1].voices[0].beats"
      ],
      "execution_count": 53,
      "outputs": [
        {
          "output_type": "execute_result",
          "data": {
            "text/plain": [
              "[<guitarpro.models.Beat at 0x7faab7e9dcd0>,\n",
              " <guitarpro.models.Beat at 0x7faab4308590>,\n",
              " <guitarpro.models.Beat at 0x7faab3d43d90>,\n",
              " <guitarpro.models.Beat at 0x7faab3d6c410>]"
            ]
          },
          "metadata": {},
          "execution_count": 53
        }
      ]
    },
    {
      "cell_type": "code",
      "metadata": {
        "colab": {
          "base_uri": "https://localhost:8080/"
        },
        "id": "cTMpa5oT6rPE",
        "outputId": "06fd6168-225e-4760-c720-88b9421513cd"
      },
      "source": [
        "song.tracks[0].measures[1].voices[0].beats[3].start"
      ],
      "execution_count": 37,
      "outputs": [
        {
          "output_type": "execute_result",
          "data": {
            "text/plain": [
              "7680"
            ]
          },
          "metadata": {},
          "execution_count": 37
        }
      ]
    },
    {
      "cell_type": "code",
      "metadata": {
        "colab": {
          "base_uri": "https://localhost:8080/"
        },
        "id": "it5wXGdt_q5g",
        "outputId": "42d7a3f2-6013-48de-f105-7b2b79b2a122"
      },
      "source": [
        "file = \"/content/drive/MyDrive/repeat.gp5\"\n",
        "song = guitarpro.parse(file)\n",
        "song.tracks[0].measures[0].voices[0].beats[-1].duration.time"
      ],
      "execution_count": 58,
      "outputs": [
        {
          "output_type": "execute_result",
          "data": {
            "text/plain": [
              "1920"
            ]
          },
          "metadata": {},
          "execution_count": 58
        }
      ]
    }
  ]
}